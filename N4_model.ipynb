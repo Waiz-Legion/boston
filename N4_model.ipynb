{
 "cells": [
  {
   "cell_type": "code",
   "execution_count": 22,
   "id": "8323fab1-5bcd-40cf-86c9-f6fe17abd1cf",
   "metadata": {},
   "outputs": [],
   "source": [
    "import pandas as pd\n",
    "import numpy as np\n",
    "import seaborn as sb\n",
    "import copy\n",
    "import pandas_profiling\n",
    "import matplotlib.pyplot as plt\n",
    "from imblearn.over_sampling import SMOTE\n",
    "from sklearn.preprocessing import OneHotEncoder as ohe, LabelEncoder as le\n",
    "import warnings\n",
    "from tqdm import tqdm\n",
    "from sklearn.tree import DecisionTreeClassifier\n",
    "from sklearn.model_selection import train_test_split as tts\n",
    "from sklearn.metrics import classification_report as cr\n",
    "%matplotlib inline\n",
    "warnings.filterwarnings('ignore')"
   ]
  },
  {
   "cell_type": "code",
   "execution_count": 16,
   "id": "365bb01f-1dbd-43b8-8120-0e9f1b3e8bd2",
   "metadata": {},
   "outputs": [],
   "source": [
    "df = pd.read_csv('forModel.csv')"
   ]
  },
  {
   "cell_type": "code",
   "execution_count": 17,
   "id": "3f63c092-cc90-401b-a69a-dbc197904164",
   "metadata": {},
   "outputs": [
    {
     "data": {
      "text/html": [
       "<div><div id=4dba2524-5f6b-467f-a4f5-61934a122540 style=\"display:none; background-color:#9D6CFF; color:white; width:200px; height:30px; padding-left:5px; border-radius:4px; flex-direction:row; justify-content:space-around; align-items:center;\" onmouseover=\"this.style.backgroundColor='#BA9BF8'\" onmouseout=\"this.style.backgroundColor='#9D6CFF'\" onclick=\"window.commands?.execute('create-mitosheet-from-dataframe-output');\">See Full Dataframe in Mito</div> <script> if (window.commands?.hasCommand('create-mitosheet-from-dataframe-output')) document.getElementById('4dba2524-5f6b-467f-a4f5-61934a122540').style.display = 'flex' </script> <table border=\"1\" class=\"dataframe\">\n",
       "  <thead>\n",
       "    <tr style=\"text-align: right;\">\n",
       "      <th></th>\n",
       "      <th>incident_number</th>\n",
       "      <th>offense_code</th>\n",
       "      <th>offense_code_group</th>\n",
       "      <th>offense_description</th>\n",
       "      <th>district</th>\n",
       "      <th>reporting_area</th>\n",
       "      <th>shooting</th>\n",
       "      <th>occurred_on_date</th>\n",
       "      <th>year</th>\n",
       "      <th>month</th>\n",
       "      <th>...</th>\n",
       "      <th>long</th>\n",
       "      <th>location</th>\n",
       "      <th>season</th>\n",
       "      <th>avg_high_temp (C)</th>\n",
       "      <th>avg_low_temp (C)</th>\n",
       "      <th>avg_precipitation (inches)</th>\n",
       "      <th>snow (inches)</th>\n",
       "      <th>unemployement_rate</th>\n",
       "      <th>Day</th>\n",
       "      <th>Night</th>\n",
       "    </tr>\n",
       "  </thead>\n",
       "  <tbody>\n",
       "    <tr>\n",
       "      <th>0</th>\n",
       "      <td>I192068249</td>\n",
       "      <td>2647</td>\n",
       "      <td>other</td>\n",
       "      <td>threats to do bodily harm</td>\n",
       "      <td>B2</td>\n",
       "      <td>280</td>\n",
       "      <td>0</td>\n",
       "      <td>2015-08-28</td>\n",
       "      <td>2015</td>\n",
       "      <td>8</td>\n",
       "      <td>...</td>\n",
       "      <td>-71.084251</td>\n",
       "      <td>(42.33011862, -71.08425106)</td>\n",
       "      <td>summer</td>\n",
       "      <td>26.444444</td>\n",
       "      <td>-3.086420</td>\n",
       "      <td>1.58</td>\n",
       "      <td>0.0</td>\n",
       "      <td>0.0</td>\n",
       "      <td>1</td>\n",
       "      <td>0</td>\n",
       "    </tr>\n",
       "    <tr>\n",
       "      <th>1</th>\n",
       "      <td>I192061894</td>\n",
       "      <td>1106</td>\n",
       "      <td>confidence games</td>\n",
       "      <td>fraud - credit card / atm fraud</td>\n",
       "      <td>C11</td>\n",
       "      <td>356</td>\n",
       "      <td>0</td>\n",
       "      <td>2015-08-20</td>\n",
       "      <td>2015</td>\n",
       "      <td>8</td>\n",
       "      <td>...</td>\n",
       "      <td>-71.061268</td>\n",
       "      <td>(42.30060543, -71.06126785)</td>\n",
       "      <td>summer</td>\n",
       "      <td>26.444444</td>\n",
       "      <td>-3.086420</td>\n",
       "      <td>1.58</td>\n",
       "      <td>0.0</td>\n",
       "      <td>0.0</td>\n",
       "      <td>0</td>\n",
       "      <td>1</td>\n",
       "    </tr>\n",
       "    <tr>\n",
       "      <th>2</th>\n",
       "      <td>I192038828</td>\n",
       "      <td>1107</td>\n",
       "      <td>fraud</td>\n",
       "      <td>fraud - impersonation</td>\n",
       "      <td>A1</td>\n",
       "      <td>172</td>\n",
       "      <td>0</td>\n",
       "      <td>2015-11-02</td>\n",
       "      <td>2015</td>\n",
       "      <td>11</td>\n",
       "      <td>...</td>\n",
       "      <td>-71.072395</td>\n",
       "      <td>(42.33428841, -71.07239518)</td>\n",
       "      <td>fall</td>\n",
       "      <td>10.722222</td>\n",
       "      <td>-11.820988</td>\n",
       "      <td>1.80</td>\n",
       "      <td>1.3</td>\n",
       "      <td>3.7</td>\n",
       "      <td>1</td>\n",
       "      <td>0</td>\n",
       "    </tr>\n",
       "    <tr>\n",
       "      <th>3</th>\n",
       "      <td>I192008877</td>\n",
       "      <td>1107</td>\n",
       "      <td>fraud</td>\n",
       "      <td>fraud - impersonation</td>\n",
       "      <td>E18</td>\n",
       "      <td>525</td>\n",
       "      <td>0</td>\n",
       "      <td>2015-07-31</td>\n",
       "      <td>2015</td>\n",
       "      <td>7</td>\n",
       "      <td>...</td>\n",
       "      <td>-71.129566</td>\n",
       "      <td>(42.23700950, -71.12956606)</td>\n",
       "      <td>summer</td>\n",
       "      <td>26.666667</td>\n",
       "      <td>-2.962963</td>\n",
       "      <td>4.03</td>\n",
       "      <td>0.0</td>\n",
       "      <td>0.0</td>\n",
       "      <td>1</td>\n",
       "      <td>0</td>\n",
       "    </tr>\n",
       "    <tr>\n",
       "      <th>4</th>\n",
       "      <td>I182090828</td>\n",
       "      <td>1102</td>\n",
       "      <td>fraud</td>\n",
       "      <td>fraud - false pretense / scheme</td>\n",
       "      <td>D4</td>\n",
       "      <td>159</td>\n",
       "      <td>0</td>\n",
       "      <td>2015-12-01</td>\n",
       "      <td>2015</td>\n",
       "      <td>12</td>\n",
       "      <td>...</td>\n",
       "      <td>-71.072258</td>\n",
       "      <td>(42.34243222, -71.07225766)</td>\n",
       "      <td>winter</td>\n",
       "      <td>2.555556</td>\n",
       "      <td>-16.358025</td>\n",
       "      <td>2.49</td>\n",
       "      <td>9.2</td>\n",
       "      <td>3.7</td>\n",
       "      <td>1</td>\n",
       "      <td>0</td>\n",
       "    </tr>\n",
       "  </tbody>\n",
       "</table></div>"
      ],
      "text/plain": [
       "  incident_number  offense_code offense_code_group  \\\n",
       "0      I192068249          2647              other   \n",
       "1      I192061894          1106   confidence games   \n",
       "2      I192038828          1107              fraud   \n",
       "3      I192008877          1107              fraud   \n",
       "4      I182090828          1102              fraud   \n",
       "\n",
       "               offense_description district reporting_area  shooting  \\\n",
       "0        threats to do bodily harm       B2            280         0   \n",
       "1  fraud - credit card / atm fraud      C11            356         0   \n",
       "2            fraud - impersonation       A1            172         0   \n",
       "3            fraud - impersonation      E18            525         0   \n",
       "4  fraud - false pretense / scheme       D4            159         0   \n",
       "\n",
       "  occurred_on_date  year  month  ...       long                     location  \\\n",
       "0       2015-08-28  2015      8  ... -71.084251  (42.33011862, -71.08425106)   \n",
       "1       2015-08-20  2015      8  ... -71.061268  (42.30060543, -71.06126785)   \n",
       "2       2015-11-02  2015     11  ... -71.072395  (42.33428841, -71.07239518)   \n",
       "3       2015-07-31  2015      7  ... -71.129566  (42.23700950, -71.12956606)   \n",
       "4       2015-12-01  2015     12  ... -71.072258  (42.34243222, -71.07225766)   \n",
       "\n",
       "   season avg_high_temp (C)  avg_low_temp (C)  avg_precipitation (inches)  \\\n",
       "0  summer         26.444444         -3.086420                        1.58   \n",
       "1  summer         26.444444         -3.086420                        1.58   \n",
       "2    fall         10.722222        -11.820988                        1.80   \n",
       "3  summer         26.666667         -2.962963                        4.03   \n",
       "4  winter          2.555556        -16.358025                        2.49   \n",
       "\n",
       "  snow (inches) unemployement_rate  Day  Night  \n",
       "0           0.0                0.0    1      0  \n",
       "1           0.0                0.0    0      1  \n",
       "2           1.3                3.7    1      0  \n",
       "3           0.0                0.0    1      0  \n",
       "4           9.2                3.7    1      0  \n",
       "\n",
       "[5 rows x 25 columns]"
      ]
     },
     "execution_count": 17,
     "metadata": {},
     "output_type": "execute_result"
    }
   ],
   "source": [
    "df.head()"
   ]
  },
  {
   "cell_type": "code",
   "execution_count": 18,
   "id": "72a383a1-f904-444a-9776-6a3b5520fb6d",
   "metadata": {},
   "outputs": [
    {
     "data": {
      "text/plain": [
       "(581169, 25)"
      ]
     },
     "execution_count": 18,
     "metadata": {},
     "output_type": "execute_result"
    }
   ],
   "source": [
    "df.shape"
   ]
  },
  {
   "cell_type": "code",
   "execution_count": 19,
   "id": "9e3bba66-06e7-4d40-a9e8-57f222298ecc",
   "metadata": {},
   "outputs": [
    {
     "data": {
      "text/plain": [
       "array(['summer', 'fall', 'winter', 'spring'], dtype=object)"
      ]
     },
     "execution_count": 19,
     "metadata": {},
     "output_type": "execute_result"
    }
   ],
   "source": [
    "df.season.unique()"
   ]
  },
  {
   "cell_type": "code",
   "execution_count": 20,
   "id": "f5a4833b-6207-4058-b4ee-fea447194235",
   "metadata": {},
   "outputs": [],
   "source": [
    "partOne = list(set(df.groupby('ucr_part').get_group('Part One')['offense_code']))\n",
    "partTwo = list(set(df.groupby('ucr_part').get_group('Part Two')['offense_code']))\n",
    "partThree = list(set(df.groupby('ucr_part').get_group('Part Three')['offense_code']))\n",
    "partOther = list(set(df.groupby('ucr_part').get_group('Other')['offense_code']))"
   ]
  },
  {
   "cell_type": "code",
   "execution_count": 23,
   "id": "88fb2529-680e-4937-963e-d1fad8cb34dd",
   "metadata": {},
   "outputs": [
    {
     "name": "stderr",
     "output_type": "stream",
     "text": [
      "100%|███████████████████████████████████████████████████████████████████████| 581169/581169 [00:11<00:00, 49006.05it/s]\n"
     ]
    }
   ],
   "source": [
    "for i in tqdm(df.index):\n",
    "    if df['offense_code'][i] in partOne:\n",
    "        df['offense_code'][i] = 'serious_crime'\n",
    "    elif df['offense_code'][i] in partTwo:\n",
    "        df['offense_code'][i] = 'intermediate_crime'\n",
    "    elif df['offense_code'][i] in partThree:\n",
    "        df['offense_code'][i] = 'low_level_crime'\n",
    "    elif df['offense_code'][i] in partOther:\n",
    "        df['offense_code'][i] = 'other_crime'"
   ]
  },
  {
   "cell_type": "code",
   "execution_count": 25,
   "id": "445b31da-4c15-4a0f-9027-605d7d4ffeb9",
   "metadata": {},
   "outputs": [
    {
     "data": {
      "text/plain": [
       "16"
      ]
     },
     "execution_count": 25,
     "metadata": {},
     "output_type": "execute_result"
    }
   ],
   "source": [
    "df['unemployement_rate'].nunique()"
   ]
  },
  {
   "cell_type": "markdown",
   "id": "21bdacb2-6185-4ae9-b8f3-fa3b3b2a05e4",
   "metadata": {},
   "source": [
    "##  We will trying predict how much case will occure a day.\n",
    "\n",
    "## We will create with dataframe included district, occured on date, incident number (counted by days& district),day of week for modelling.\n",
    "\n",
    "## If we add the Ucr_part and Hour features, they do not increase the score of our model. We do not include these to reduce complexity.\n"
   ]
  },
  {
   "cell_type": "code",
   "execution_count": 40,
   "id": "9de55044-9398-4e54-9f34-9f0443b11782",
   "metadata": {},
   "outputs": [
    {
     "data": {
      "text/html": [
       "<div><div id=d5057a40-4ba4-4423-a73e-8d6f64a9c4d9 style=\"display:none; background-color:#9D6CFF; color:white; width:200px; height:30px; padding-left:5px; border-radius:4px; flex-direction:row; justify-content:space-around; align-items:center;\" onmouseover=\"this.style.backgroundColor='#BA9BF8'\" onmouseout=\"this.style.backgroundColor='#9D6CFF'\" onclick=\"window.commands?.execute('create-mitosheet-from-dataframe-output');\">See Full Dataframe in Mito</div> <script> if (window.commands?.hasCommand('create-mitosheet-from-dataframe-output')) document.getElementById('d5057a40-4ba4-4423-a73e-8d6f64a9c4d9').style.display = 'flex' </script> <table border=\"1\" class=\"dataframe\">\n",
       "  <thead>\n",
       "    <tr style=\"text-align: right;\">\n",
       "      <th></th>\n",
       "      <th>occurred_on_date</th>\n",
       "      <th>district</th>\n",
       "      <th>day_of_week</th>\n",
       "      <th>incident_number</th>\n",
       "    </tr>\n",
       "  </thead>\n",
       "  <tbody>\n",
       "    <tr>\n",
       "      <th>0</th>\n",
       "      <td>2015-06-15</td>\n",
       "      <td>A1</td>\n",
       "      <td>Monday</td>\n",
       "      <td>23</td>\n",
       "    </tr>\n",
       "    <tr>\n",
       "      <th>1</th>\n",
       "      <td>2015-06-15</td>\n",
       "      <td>A15</td>\n",
       "      <td>Monday</td>\n",
       "      <td>5</td>\n",
       "    </tr>\n",
       "    <tr>\n",
       "      <th>2</th>\n",
       "      <td>2015-06-15</td>\n",
       "      <td>A7</td>\n",
       "      <td>Monday</td>\n",
       "      <td>10</td>\n",
       "    </tr>\n",
       "    <tr>\n",
       "      <th>3</th>\n",
       "      <td>2015-06-15</td>\n",
       "      <td>B2</td>\n",
       "      <td>Monday</td>\n",
       "      <td>34</td>\n",
       "    </tr>\n",
       "    <tr>\n",
       "      <th>4</th>\n",
       "      <td>2015-06-15</td>\n",
       "      <td>B3</td>\n",
       "      <td>Monday</td>\n",
       "      <td>26</td>\n",
       "    </tr>\n",
       "  </tbody>\n",
       "</table></div>"
      ],
      "text/plain": [
       "  occurred_on_date district day_of_week  incident_number\n",
       "0       2015-06-15       A1      Monday               23\n",
       "1       2015-06-15      A15      Monday                5\n",
       "2       2015-06-15       A7      Monday               10\n",
       "3       2015-06-15       B2      Monday               34\n",
       "4       2015-06-15       B3      Monday               26"
      ]
     },
     "execution_count": 40,
     "metadata": {},
     "output_type": "execute_result"
    }
   ],
   "source": [
    "df_reg = pd.DataFrame(df.groupby([\"occurred_on_date\",\"district\", \"day_of_week\"])[\"incident_number\"].count()).reset_index()\n",
    "df_reg.head()\n",
    "\n"
   ]
  },
  {
   "cell_type": "code",
   "execution_count": 41,
   "id": "7595aa36-86cd-4429-ad36-84c81ddafc61",
   "metadata": {},
   "outputs": [
    {
     "data": {
      "text/plain": [
       "7"
      ]
     },
     "execution_count": 41,
     "metadata": {},
     "output_type": "execute_result"
    }
   ],
   "source": [
    "df_reg.day_of_week.nunique()"
   ]
  },
  {
   "cell_type": "code",
   "execution_count": 42,
   "id": "71373ed8-c45e-4790-ae32-c5e3996e0aa3",
   "metadata": {},
   "outputs": [
    {
     "data": {
      "text/plain": [
       "occurred_on_date    0\n",
       "district            0\n",
       "day_of_week         0\n",
       "incident_number     0\n",
       "dtype: int64"
      ]
     },
     "execution_count": 42,
     "metadata": {},
     "output_type": "execute_result"
    }
   ],
   "source": [
    "df_reg.isnull().sum()"
   ]
  },
  {
   "cell_type": "code",
   "execution_count": null,
   "id": "4e4c4ca6-34c5-4f58-ad4e-09549047ae89",
   "metadata": {},
   "outputs": [],
   "source": []
  },
  {
   "cell_type": "code",
   "execution_count": 50,
   "id": "0666eb85-4eca-4c14-b907-dd911f465b31",
   "metadata": {},
   "outputs": [
    {
     "data": {
      "text/html": [
       "<div><div id=894f2b6d-c7c6-4d9b-9381-3cdb62c50f74 style=\"display:none; background-color:#9D6CFF; color:white; width:200px; height:30px; padding-left:5px; border-radius:4px; flex-direction:row; justify-content:space-around; align-items:center;\" onmouseover=\"this.style.backgroundColor='#BA9BF8'\" onmouseout=\"this.style.backgroundColor='#9D6CFF'\" onclick=\"window.commands?.execute('create-mitosheet-from-dataframe-output');\">See Full Dataframe in Mito</div> <script> if (window.commands?.hasCommand('create-mitosheet-from-dataframe-output')) document.getElementById('894f2b6d-c7c6-4d9b-9381-3cdb62c50f74').style.display = 'flex' </script> <table border=\"1\" class=\"dataframe\">\n",
       "  <thead>\n",
       "    <tr style=\"text-align: right;\">\n",
       "      <th></th>\n",
       "      <th>occurred_on_date</th>\n",
       "      <th>district</th>\n",
       "      <th>day_of_week</th>\n",
       "      <th>case_count</th>\n",
       "    </tr>\n",
       "  </thead>\n",
       "  <tbody>\n",
       "    <tr>\n",
       "      <th>0</th>\n",
       "      <td>2015-06-15</td>\n",
       "      <td>A1</td>\n",
       "      <td>1</td>\n",
       "      <td>23</td>\n",
       "    </tr>\n",
       "    <tr>\n",
       "      <th>1</th>\n",
       "      <td>2015-06-15</td>\n",
       "      <td>A15</td>\n",
       "      <td>1</td>\n",
       "      <td>5</td>\n",
       "    </tr>\n",
       "    <tr>\n",
       "      <th>2</th>\n",
       "      <td>2015-06-15</td>\n",
       "      <td>A7</td>\n",
       "      <td>1</td>\n",
       "      <td>10</td>\n",
       "    </tr>\n",
       "    <tr>\n",
       "      <th>3</th>\n",
       "      <td>2015-06-15</td>\n",
       "      <td>B2</td>\n",
       "      <td>1</td>\n",
       "      <td>34</td>\n",
       "    </tr>\n",
       "    <tr>\n",
       "      <th>4</th>\n",
       "      <td>2015-06-15</td>\n",
       "      <td>B3</td>\n",
       "      <td>1</td>\n",
       "      <td>26</td>\n",
       "    </tr>\n",
       "  </tbody>\n",
       "</table></div>"
      ],
      "text/plain": [
       "  occurred_on_date district  day_of_week  case_count\n",
       "0       2015-06-15       A1            1          23\n",
       "1       2015-06-15      A15            1           5\n",
       "2       2015-06-15       A7            1          10\n",
       "3       2015-06-15       B2            1          34\n",
       "4       2015-06-15       B3            1          26"
      ]
     },
     "execution_count": 50,
     "metadata": {},
     "output_type": "execute_result"
    }
   ],
   "source": [
    "df_reg.head()"
   ]
  },
  {
   "cell_type": "code",
   "execution_count": 49,
   "id": "1746e5e8-1515-4635-b7aa-71727f72b6c0",
   "metadata": {},
   "outputs": [],
   "source": [
    "df_reg.rename(columns = {'incident_number' : 'case_count'}, inplace = True)"
   ]
  },
  {
   "cell_type": "code",
   "execution_count": 44,
   "id": "429e88d3-3b8d-4fd7-b9a7-f1d97919faa1",
   "metadata": {},
   "outputs": [],
   "source": [
    "df_reg['day_of_week'] = df_reg['day_of_week'].map({'Monday' : 1,\n",
    "                                                  'Tuesday' : 2,\n",
    "                                                  'Wednesday':3,\n",
    "                                                  'Thursday' : 4,\n",
    "                                                  \"Friday\" : 5,\n",
    "                                                  'Saturday' : 6,\n",
    "                                                  'Sunday' : 7})"
   ]
  },
  {
   "cell_type": "code",
   "execution_count": 51,
   "id": "8bed07a3-4131-42bd-8750-5aa7b2e4c1ba",
   "metadata": {},
   "outputs": [],
   "source": [
    "df_reg = pd.concat([df_reg, pd.get_dummies(df_reg['district'], prefix = 'D')]\n",
    "                   , axis = 1)"
   ]
  },
  {
   "cell_type": "code",
   "execution_count": 75,
   "id": "ee59a90a-7b9c-4faa-8b9e-cf4790c43521",
   "metadata": {},
   "outputs": [],
   "source": [
    "df_reg = pd.concat([df_reg, pd.get_dummies(df_reg['day_of_week'], prefix = 'day')]\n",
    "                   , axis = 1)"
   ]
  },
  {
   "cell_type": "code",
   "execution_count": 53,
   "id": "cd798a4d-6af1-46e0-b413-14101c29512d",
   "metadata": {},
   "outputs": [],
   "source": [
    "df_reg.drop('district', axis = 1, inplace = True)"
   ]
  },
  {
   "cell_type": "code",
   "execution_count": 76,
   "id": "acf75183-c259-4775-820d-a177dc7a7bc0",
   "metadata": {},
   "outputs": [],
   "source": [
    "df_reg.drop('day_of_week', axis = 1, inplace = True)"
   ]
  },
  {
   "cell_type": "code",
   "execution_count": 77,
   "id": "48239986-da57-48b3-9e8c-7bed55203533",
   "metadata": {},
   "outputs": [
    {
     "data": {
      "text/html": [
       "<div><div id=ec8521e9-85c5-4595-9271-da21098ddb54 style=\"display:none; background-color:#9D6CFF; color:white; width:200px; height:30px; padding-left:5px; border-radius:4px; flex-direction:row; justify-content:space-around; align-items:center;\" onmouseover=\"this.style.backgroundColor='#BA9BF8'\" onmouseout=\"this.style.backgroundColor='#9D6CFF'\" onclick=\"window.commands?.execute('create-mitosheet-from-dataframe-output');\">See Full Dataframe in Mito</div> <script> if (window.commands?.hasCommand('create-mitosheet-from-dataframe-output')) document.getElementById('ec8521e9-85c5-4595-9271-da21098ddb54').style.display = 'flex' </script> <table border=\"1\" class=\"dataframe\">\n",
       "  <thead>\n",
       "    <tr style=\"text-align: right;\">\n",
       "      <th></th>\n",
       "      <th>occurred_on_date</th>\n",
       "      <th>case_count</th>\n",
       "      <th>D_A1</th>\n",
       "      <th>D_A15</th>\n",
       "      <th>D_A7</th>\n",
       "      <th>D_B2</th>\n",
       "      <th>D_B3</th>\n",
       "      <th>D_C11</th>\n",
       "      <th>D_C6</th>\n",
       "      <th>D_D14</th>\n",
       "      <th>...</th>\n",
       "      <th>D_E18</th>\n",
       "      <th>D_E5</th>\n",
       "      <th>D_External</th>\n",
       "      <th>day_1</th>\n",
       "      <th>day_2</th>\n",
       "      <th>day_3</th>\n",
       "      <th>day_4</th>\n",
       "      <th>day_5</th>\n",
       "      <th>day_6</th>\n",
       "      <th>day_7</th>\n",
       "    </tr>\n",
       "  </thead>\n",
       "  <tbody>\n",
       "    <tr>\n",
       "      <th>0</th>\n",
       "      <td>735764</td>\n",
       "      <td>23</td>\n",
       "      <td>1</td>\n",
       "      <td>0</td>\n",
       "      <td>0</td>\n",
       "      <td>0</td>\n",
       "      <td>0</td>\n",
       "      <td>0</td>\n",
       "      <td>0</td>\n",
       "      <td>0</td>\n",
       "      <td>...</td>\n",
       "      <td>0</td>\n",
       "      <td>0</td>\n",
       "      <td>0</td>\n",
       "      <td>1</td>\n",
       "      <td>0</td>\n",
       "      <td>0</td>\n",
       "      <td>0</td>\n",
       "      <td>0</td>\n",
       "      <td>0</td>\n",
       "      <td>0</td>\n",
       "    </tr>\n",
       "    <tr>\n",
       "      <th>1</th>\n",
       "      <td>735764</td>\n",
       "      <td>5</td>\n",
       "      <td>0</td>\n",
       "      <td>1</td>\n",
       "      <td>0</td>\n",
       "      <td>0</td>\n",
       "      <td>0</td>\n",
       "      <td>0</td>\n",
       "      <td>0</td>\n",
       "      <td>0</td>\n",
       "      <td>...</td>\n",
       "      <td>0</td>\n",
       "      <td>0</td>\n",
       "      <td>0</td>\n",
       "      <td>1</td>\n",
       "      <td>0</td>\n",
       "      <td>0</td>\n",
       "      <td>0</td>\n",
       "      <td>0</td>\n",
       "      <td>0</td>\n",
       "      <td>0</td>\n",
       "    </tr>\n",
       "    <tr>\n",
       "      <th>2</th>\n",
       "      <td>735764</td>\n",
       "      <td>10</td>\n",
       "      <td>0</td>\n",
       "      <td>0</td>\n",
       "      <td>1</td>\n",
       "      <td>0</td>\n",
       "      <td>0</td>\n",
       "      <td>0</td>\n",
       "      <td>0</td>\n",
       "      <td>0</td>\n",
       "      <td>...</td>\n",
       "      <td>0</td>\n",
       "      <td>0</td>\n",
       "      <td>0</td>\n",
       "      <td>1</td>\n",
       "      <td>0</td>\n",
       "      <td>0</td>\n",
       "      <td>0</td>\n",
       "      <td>0</td>\n",
       "      <td>0</td>\n",
       "      <td>0</td>\n",
       "    </tr>\n",
       "    <tr>\n",
       "      <th>3</th>\n",
       "      <td>735764</td>\n",
       "      <td>34</td>\n",
       "      <td>0</td>\n",
       "      <td>0</td>\n",
       "      <td>0</td>\n",
       "      <td>1</td>\n",
       "      <td>0</td>\n",
       "      <td>0</td>\n",
       "      <td>0</td>\n",
       "      <td>0</td>\n",
       "      <td>...</td>\n",
       "      <td>0</td>\n",
       "      <td>0</td>\n",
       "      <td>0</td>\n",
       "      <td>1</td>\n",
       "      <td>0</td>\n",
       "      <td>0</td>\n",
       "      <td>0</td>\n",
       "      <td>0</td>\n",
       "      <td>0</td>\n",
       "      <td>0</td>\n",
       "    </tr>\n",
       "    <tr>\n",
       "      <th>4</th>\n",
       "      <td>735764</td>\n",
       "      <td>26</td>\n",
       "      <td>0</td>\n",
       "      <td>0</td>\n",
       "      <td>0</td>\n",
       "      <td>0</td>\n",
       "      <td>1</td>\n",
       "      <td>0</td>\n",
       "      <td>0</td>\n",
       "      <td>0</td>\n",
       "      <td>...</td>\n",
       "      <td>0</td>\n",
       "      <td>0</td>\n",
       "      <td>0</td>\n",
       "      <td>1</td>\n",
       "      <td>0</td>\n",
       "      <td>0</td>\n",
       "      <td>0</td>\n",
       "      <td>0</td>\n",
       "      <td>0</td>\n",
       "      <td>0</td>\n",
       "    </tr>\n",
       "    <tr>\n",
       "      <th>...</th>\n",
       "      <td>...</td>\n",
       "      <td>...</td>\n",
       "      <td>...</td>\n",
       "      <td>...</td>\n",
       "      <td>...</td>\n",
       "      <td>...</td>\n",
       "      <td>...</td>\n",
       "      <td>...</td>\n",
       "      <td>...</td>\n",
       "      <td>...</td>\n",
       "      <td>...</td>\n",
       "      <td>...</td>\n",
       "      <td>...</td>\n",
       "      <td>...</td>\n",
       "      <td>...</td>\n",
       "      <td>...</td>\n",
       "      <td>...</td>\n",
       "      <td>...</td>\n",
       "      <td>...</td>\n",
       "      <td>...</td>\n",
       "      <td>...</td>\n",
       "    </tr>\n",
       "    <tr>\n",
       "      <th>31830</th>\n",
       "      <td>738397</td>\n",
       "      <td>2</td>\n",
       "      <td>0</td>\n",
       "      <td>0</td>\n",
       "      <td>0</td>\n",
       "      <td>0</td>\n",
       "      <td>0</td>\n",
       "      <td>1</td>\n",
       "      <td>0</td>\n",
       "      <td>0</td>\n",
       "      <td>...</td>\n",
       "      <td>0</td>\n",
       "      <td>0</td>\n",
       "      <td>0</td>\n",
       "      <td>0</td>\n",
       "      <td>1</td>\n",
       "      <td>0</td>\n",
       "      <td>0</td>\n",
       "      <td>0</td>\n",
       "      <td>0</td>\n",
       "      <td>0</td>\n",
       "    </tr>\n",
       "    <tr>\n",
       "      <th>31831</th>\n",
       "      <td>738397</td>\n",
       "      <td>1</td>\n",
       "      <td>0</td>\n",
       "      <td>0</td>\n",
       "      <td>0</td>\n",
       "      <td>0</td>\n",
       "      <td>0</td>\n",
       "      <td>0</td>\n",
       "      <td>1</td>\n",
       "      <td>0</td>\n",
       "      <td>...</td>\n",
       "      <td>0</td>\n",
       "      <td>0</td>\n",
       "      <td>0</td>\n",
       "      <td>0</td>\n",
       "      <td>1</td>\n",
       "      <td>0</td>\n",
       "      <td>0</td>\n",
       "      <td>0</td>\n",
       "      <td>0</td>\n",
       "      <td>0</td>\n",
       "    </tr>\n",
       "    <tr>\n",
       "      <th>31832</th>\n",
       "      <td>738397</td>\n",
       "      <td>1</td>\n",
       "      <td>0</td>\n",
       "      <td>0</td>\n",
       "      <td>0</td>\n",
       "      <td>0</td>\n",
       "      <td>0</td>\n",
       "      <td>0</td>\n",
       "      <td>0</td>\n",
       "      <td>1</td>\n",
       "      <td>...</td>\n",
       "      <td>0</td>\n",
       "      <td>0</td>\n",
       "      <td>0</td>\n",
       "      <td>0</td>\n",
       "      <td>1</td>\n",
       "      <td>0</td>\n",
       "      <td>0</td>\n",
       "      <td>0</td>\n",
       "      <td>0</td>\n",
       "      <td>0</td>\n",
       "    </tr>\n",
       "    <tr>\n",
       "      <th>31833</th>\n",
       "      <td>738397</td>\n",
       "      <td>2</td>\n",
       "      <td>0</td>\n",
       "      <td>0</td>\n",
       "      <td>0</td>\n",
       "      <td>0</td>\n",
       "      <td>0</td>\n",
       "      <td>0</td>\n",
       "      <td>0</td>\n",
       "      <td>0</td>\n",
       "      <td>...</td>\n",
       "      <td>0</td>\n",
       "      <td>0</td>\n",
       "      <td>0</td>\n",
       "      <td>0</td>\n",
       "      <td>1</td>\n",
       "      <td>0</td>\n",
       "      <td>0</td>\n",
       "      <td>0</td>\n",
       "      <td>0</td>\n",
       "      <td>0</td>\n",
       "    </tr>\n",
       "    <tr>\n",
       "      <th>31834</th>\n",
       "      <td>738397</td>\n",
       "      <td>1</td>\n",
       "      <td>0</td>\n",
       "      <td>0</td>\n",
       "      <td>0</td>\n",
       "      <td>0</td>\n",
       "      <td>0</td>\n",
       "      <td>0</td>\n",
       "      <td>0</td>\n",
       "      <td>0</td>\n",
       "      <td>...</td>\n",
       "      <td>1</td>\n",
       "      <td>0</td>\n",
       "      <td>0</td>\n",
       "      <td>0</td>\n",
       "      <td>1</td>\n",
       "      <td>0</td>\n",
       "      <td>0</td>\n",
       "      <td>0</td>\n",
       "      <td>0</td>\n",
       "      <td>0</td>\n",
       "    </tr>\n",
       "  </tbody>\n",
       "</table></div>"
      ],
      "text/plain": [
       "       occurred_on_date  case_count  D_A1  D_A15  D_A7  D_B2  D_B3  D_C11  \\\n",
       "0                735764          23     1      0     0     0     0      0   \n",
       "1                735764           5     0      1     0     0     0      0   \n",
       "2                735764          10     0      0     1     0     0      0   \n",
       "3                735764          34     0      0     0     1     0      0   \n",
       "4                735764          26     0      0     0     0     1      0   \n",
       "...                 ...         ...   ...    ...   ...   ...   ...    ...   \n",
       "31830            738397           2     0      0     0     0     0      1   \n",
       "31831            738397           1     0      0     0     0     0      0   \n",
       "31832            738397           1     0      0     0     0     0      0   \n",
       "31833            738397           2     0      0     0     0     0      0   \n",
       "31834            738397           1     0      0     0     0     0      0   \n",
       "\n",
       "       D_C6  D_D14  ...  D_E18  D_E5  D_External  day_1  day_2  day_3  day_4  \\\n",
       "0         0      0  ...      0     0           0      1      0      0      0   \n",
       "1         0      0  ...      0     0           0      1      0      0      0   \n",
       "2         0      0  ...      0     0           0      1      0      0      0   \n",
       "3         0      0  ...      0     0           0      1      0      0      0   \n",
       "4         0      0  ...      0     0           0      1      0      0      0   \n",
       "...     ...    ...  ...    ...   ...         ...    ...    ...    ...    ...   \n",
       "31830     0      0  ...      0     0           0      0      1      0      0   \n",
       "31831     1      0  ...      0     0           0      0      1      0      0   \n",
       "31832     0      1  ...      0     0           0      0      1      0      0   \n",
       "31833     0      0  ...      0     0           0      0      1      0      0   \n",
       "31834     0      0  ...      1     0           0      0      1      0      0   \n",
       "\n",
       "       day_5  day_6  day_7  \n",
       "0          0      0      0  \n",
       "1          0      0      0  \n",
       "2          0      0      0  \n",
       "3          0      0      0  \n",
       "4          0      0      0  \n",
       "...      ...    ...    ...  \n",
       "31830      0      0      0  \n",
       "31831      0      0      0  \n",
       "31832      0      0      0  \n",
       "31833      0      0      0  \n",
       "31834      0      0      0  \n",
       "\n",
       "[31835 rows x 22 columns]"
      ]
     },
     "execution_count": 77,
     "metadata": {},
     "output_type": "execute_result"
    }
   ],
   "source": [
    "df_reg"
   ]
  },
  {
   "cell_type": "code",
   "execution_count": 57,
   "id": "545bdcb9-82fa-469a-ac73-37e7c145c769",
   "metadata": {},
   "outputs": [],
   "source": [
    "df_reg[\"D_A1\"] = np.int64(df_reg[\"D_A1\"])\n",
    "df_reg[\"D_A15\"] = np.int64(df_reg[\"D_A15\"])\n",
    "df_reg[\"D_A7\"] = np.int64(df_reg[\"D_A7\"])\n",
    "df_reg[\"D_B2\"] = np.int64(df_reg[\"D_B2\"])\n",
    "df_reg[\"D_B3\"] = np.int64(df_reg[\"D_B3\"])\n",
    "df_reg[\"D_C11\"] = np.int64(df_reg[\"D_C11\"])\n",
    "df_reg[\"D_C6\"] = np.int64(df_reg[\"D_C6\"])\n",
    "df_reg[\"D_D14\"] = np.int64(df_reg[\"D_D14\"])\n",
    "df_reg[\"D_D4\"] = np.int64(df_reg[\"D_D4\"])\n",
    "df_reg[\"D_E13\"] = np.int64(df_reg[\"D_E13\"])\n",
    "df_reg[\"D_E18\"] = np.int64(df_reg[\"D_E18\"])\n",
    "df_reg[\"D_E5\"] = np.int64(df_reg[\"D_E5\"])\n",
    "df_reg[\"D_External\"] = np.int64(df_reg[\"D_External\"])\n"
   ]
  },
  {
   "cell_type": "code",
   "execution_count": 78,
   "id": "1c3312a2-c4cd-4024-9a34-b61f5e79d371",
   "metadata": {},
   "outputs": [],
   "source": [
    "df_reg[\"day_1\"] = np.int64(df_reg[\"day_1\"])\n",
    "df_reg[\"day_2\"] = np.int64(df_reg[\"day_2\"])\n",
    "df_reg[\"day_3\"] = np.int64(df_reg[\"day_3\"])\n",
    "df_reg[\"day_4\"] = np.int64(df_reg[\"day_4\"])\n",
    "df_reg[\"day_5\"] = np.int64(df_reg[\"day_5\"])\n",
    "df_reg[\"day_6\"] = np.int64(df_reg[\"day_6\"])\n",
    "df_reg[\"day_7\"] = np.int64(df_reg[\"day_7\"])"
   ]
  },
  {
   "cell_type": "code",
   "execution_count": 59,
   "id": "b4f97143-7420-4d47-935c-fb87621a00c6",
   "metadata": {},
   "outputs": [],
   "source": [
    "df_reg['occurred_on_date'] = pd.to_datetime(df_reg['occurred_on_date'])"
   ]
  },
  {
   "cell_type": "code",
   "execution_count": 79,
   "id": "9b468110-778f-463c-bd16-87885d6918de",
   "metadata": {},
   "outputs": [
    {
     "name": "stdout",
     "output_type": "stream",
     "text": [
      "<class 'pandas.core.frame.DataFrame'>\n",
      "RangeIndex: 31835 entries, 0 to 31834\n",
      "Data columns (total 22 columns):\n",
      " #   Column            Non-Null Count  Dtype\n",
      "---  ------            --------------  -----\n",
      " 0   occurred_on_date  31835 non-null  int64\n",
      " 1   case_count        31835 non-null  int64\n",
      " 2   D_A1              31835 non-null  int64\n",
      " 3   D_A15             31835 non-null  int64\n",
      " 4   D_A7              31835 non-null  int64\n",
      " 5   D_B2              31835 non-null  int64\n",
      " 6   D_B3              31835 non-null  int64\n",
      " 7   D_C11             31835 non-null  int64\n",
      " 8   D_C6              31835 non-null  int64\n",
      " 9   D_D14             31835 non-null  int64\n",
      " 10  D_D4              31835 non-null  int64\n",
      " 11  D_E13             31835 non-null  int64\n",
      " 12  D_E18             31835 non-null  int64\n",
      " 13  D_E5              31835 non-null  int64\n",
      " 14  D_External        31835 non-null  int64\n",
      " 15  day_1             31835 non-null  int64\n",
      " 16  day_2             31835 non-null  int64\n",
      " 17  day_3             31835 non-null  int64\n",
      " 18  day_4             31835 non-null  int64\n",
      " 19  day_5             31835 non-null  int64\n",
      " 20  day_6             31835 non-null  int64\n",
      " 21  day_7             31835 non-null  int64\n",
      "dtypes: int64(22)\n",
      "memory usage: 5.3 MB\n"
     ]
    }
   ],
   "source": [
    "df_reg.info()"
   ]
  },
  {
   "cell_type": "code",
   "execution_count": 66,
   "id": "d83d9e62-3509-45ba-adaa-b0532a3d5a59",
   "metadata": {},
   "outputs": [],
   "source": [
    "df_reg['occurred_on_date'] = df_reg['occurred_on_date'].apply(lambda x: x.toordinal())"
   ]
  },
  {
   "cell_type": "code",
   "execution_count": 80,
   "id": "10433e40-7a97-4ff0-b46d-bcf8d2353a65",
   "metadata": {},
   "outputs": [
    {
     "data": {
      "text/html": [
       "<div><div id=7c902ee1-1709-4f2a-837a-61b3a10915f4 style=\"display:none; background-color:#9D6CFF; color:white; width:200px; height:30px; padding-left:5px; border-radius:4px; flex-direction:row; justify-content:space-around; align-items:center;\" onmouseover=\"this.style.backgroundColor='#BA9BF8'\" onmouseout=\"this.style.backgroundColor='#9D6CFF'\" onclick=\"window.commands?.execute('create-mitosheet-from-dataframe-output');\">See Full Dataframe in Mito</div> <script> if (window.commands?.hasCommand('create-mitosheet-from-dataframe-output')) document.getElementById('7c902ee1-1709-4f2a-837a-61b3a10915f4').style.display = 'flex' </script> <table border=\"1\" class=\"dataframe\">\n",
       "  <thead>\n",
       "    <tr style=\"text-align: right;\">\n",
       "      <th></th>\n",
       "      <th>occurred_on_date</th>\n",
       "      <th>case_count</th>\n",
       "      <th>D_A1</th>\n",
       "      <th>D_A15</th>\n",
       "      <th>D_A7</th>\n",
       "      <th>D_B2</th>\n",
       "      <th>D_B3</th>\n",
       "      <th>D_C11</th>\n",
       "      <th>D_C6</th>\n",
       "      <th>D_D14</th>\n",
       "      <th>...</th>\n",
       "      <th>D_E18</th>\n",
       "      <th>D_E5</th>\n",
       "      <th>D_External</th>\n",
       "      <th>day_1</th>\n",
       "      <th>day_2</th>\n",
       "      <th>day_3</th>\n",
       "      <th>day_4</th>\n",
       "      <th>day_5</th>\n",
       "      <th>day_6</th>\n",
       "      <th>day_7</th>\n",
       "    </tr>\n",
       "  </thead>\n",
       "  <tbody>\n",
       "    <tr>\n",
       "      <th>0</th>\n",
       "      <td>735764</td>\n",
       "      <td>23</td>\n",
       "      <td>1</td>\n",
       "      <td>0</td>\n",
       "      <td>0</td>\n",
       "      <td>0</td>\n",
       "      <td>0</td>\n",
       "      <td>0</td>\n",
       "      <td>0</td>\n",
       "      <td>0</td>\n",
       "      <td>...</td>\n",
       "      <td>0</td>\n",
       "      <td>0</td>\n",
       "      <td>0</td>\n",
       "      <td>1</td>\n",
       "      <td>0</td>\n",
       "      <td>0</td>\n",
       "      <td>0</td>\n",
       "      <td>0</td>\n",
       "      <td>0</td>\n",
       "      <td>0</td>\n",
       "    </tr>\n",
       "    <tr>\n",
       "      <th>1</th>\n",
       "      <td>735764</td>\n",
       "      <td>5</td>\n",
       "      <td>0</td>\n",
       "      <td>1</td>\n",
       "      <td>0</td>\n",
       "      <td>0</td>\n",
       "      <td>0</td>\n",
       "      <td>0</td>\n",
       "      <td>0</td>\n",
       "      <td>0</td>\n",
       "      <td>...</td>\n",
       "      <td>0</td>\n",
       "      <td>0</td>\n",
       "      <td>0</td>\n",
       "      <td>1</td>\n",
       "      <td>0</td>\n",
       "      <td>0</td>\n",
       "      <td>0</td>\n",
       "      <td>0</td>\n",
       "      <td>0</td>\n",
       "      <td>0</td>\n",
       "    </tr>\n",
       "    <tr>\n",
       "      <th>2</th>\n",
       "      <td>735764</td>\n",
       "      <td>10</td>\n",
       "      <td>0</td>\n",
       "      <td>0</td>\n",
       "      <td>1</td>\n",
       "      <td>0</td>\n",
       "      <td>0</td>\n",
       "      <td>0</td>\n",
       "      <td>0</td>\n",
       "      <td>0</td>\n",
       "      <td>...</td>\n",
       "      <td>0</td>\n",
       "      <td>0</td>\n",
       "      <td>0</td>\n",
       "      <td>1</td>\n",
       "      <td>0</td>\n",
       "      <td>0</td>\n",
       "      <td>0</td>\n",
       "      <td>0</td>\n",
       "      <td>0</td>\n",
       "      <td>0</td>\n",
       "    </tr>\n",
       "    <tr>\n",
       "      <th>3</th>\n",
       "      <td>735764</td>\n",
       "      <td>34</td>\n",
       "      <td>0</td>\n",
       "      <td>0</td>\n",
       "      <td>0</td>\n",
       "      <td>1</td>\n",
       "      <td>0</td>\n",
       "      <td>0</td>\n",
       "      <td>0</td>\n",
       "      <td>0</td>\n",
       "      <td>...</td>\n",
       "      <td>0</td>\n",
       "      <td>0</td>\n",
       "      <td>0</td>\n",
       "      <td>1</td>\n",
       "      <td>0</td>\n",
       "      <td>0</td>\n",
       "      <td>0</td>\n",
       "      <td>0</td>\n",
       "      <td>0</td>\n",
       "      <td>0</td>\n",
       "    </tr>\n",
       "    <tr>\n",
       "      <th>4</th>\n",
       "      <td>735764</td>\n",
       "      <td>26</td>\n",
       "      <td>0</td>\n",
       "      <td>0</td>\n",
       "      <td>0</td>\n",
       "      <td>0</td>\n",
       "      <td>1</td>\n",
       "      <td>0</td>\n",
       "      <td>0</td>\n",
       "      <td>0</td>\n",
       "      <td>...</td>\n",
       "      <td>0</td>\n",
       "      <td>0</td>\n",
       "      <td>0</td>\n",
       "      <td>1</td>\n",
       "      <td>0</td>\n",
       "      <td>0</td>\n",
       "      <td>0</td>\n",
       "      <td>0</td>\n",
       "      <td>0</td>\n",
       "      <td>0</td>\n",
       "    </tr>\n",
       "    <tr>\n",
       "      <th>...</th>\n",
       "      <td>...</td>\n",
       "      <td>...</td>\n",
       "      <td>...</td>\n",
       "      <td>...</td>\n",
       "      <td>...</td>\n",
       "      <td>...</td>\n",
       "      <td>...</td>\n",
       "      <td>...</td>\n",
       "      <td>...</td>\n",
       "      <td>...</td>\n",
       "      <td>...</td>\n",
       "      <td>...</td>\n",
       "      <td>...</td>\n",
       "      <td>...</td>\n",
       "      <td>...</td>\n",
       "      <td>...</td>\n",
       "      <td>...</td>\n",
       "      <td>...</td>\n",
       "      <td>...</td>\n",
       "      <td>...</td>\n",
       "      <td>...</td>\n",
       "    </tr>\n",
       "    <tr>\n",
       "      <th>31830</th>\n",
       "      <td>738397</td>\n",
       "      <td>2</td>\n",
       "      <td>0</td>\n",
       "      <td>0</td>\n",
       "      <td>0</td>\n",
       "      <td>0</td>\n",
       "      <td>0</td>\n",
       "      <td>1</td>\n",
       "      <td>0</td>\n",
       "      <td>0</td>\n",
       "      <td>...</td>\n",
       "      <td>0</td>\n",
       "      <td>0</td>\n",
       "      <td>0</td>\n",
       "      <td>0</td>\n",
       "      <td>1</td>\n",
       "      <td>0</td>\n",
       "      <td>0</td>\n",
       "      <td>0</td>\n",
       "      <td>0</td>\n",
       "      <td>0</td>\n",
       "    </tr>\n",
       "    <tr>\n",
       "      <th>31831</th>\n",
       "      <td>738397</td>\n",
       "      <td>1</td>\n",
       "      <td>0</td>\n",
       "      <td>0</td>\n",
       "      <td>0</td>\n",
       "      <td>0</td>\n",
       "      <td>0</td>\n",
       "      <td>0</td>\n",
       "      <td>1</td>\n",
       "      <td>0</td>\n",
       "      <td>...</td>\n",
       "      <td>0</td>\n",
       "      <td>0</td>\n",
       "      <td>0</td>\n",
       "      <td>0</td>\n",
       "      <td>1</td>\n",
       "      <td>0</td>\n",
       "      <td>0</td>\n",
       "      <td>0</td>\n",
       "      <td>0</td>\n",
       "      <td>0</td>\n",
       "    </tr>\n",
       "    <tr>\n",
       "      <th>31832</th>\n",
       "      <td>738397</td>\n",
       "      <td>1</td>\n",
       "      <td>0</td>\n",
       "      <td>0</td>\n",
       "      <td>0</td>\n",
       "      <td>0</td>\n",
       "      <td>0</td>\n",
       "      <td>0</td>\n",
       "      <td>0</td>\n",
       "      <td>1</td>\n",
       "      <td>...</td>\n",
       "      <td>0</td>\n",
       "      <td>0</td>\n",
       "      <td>0</td>\n",
       "      <td>0</td>\n",
       "      <td>1</td>\n",
       "      <td>0</td>\n",
       "      <td>0</td>\n",
       "      <td>0</td>\n",
       "      <td>0</td>\n",
       "      <td>0</td>\n",
       "    </tr>\n",
       "    <tr>\n",
       "      <th>31833</th>\n",
       "      <td>738397</td>\n",
       "      <td>2</td>\n",
       "      <td>0</td>\n",
       "      <td>0</td>\n",
       "      <td>0</td>\n",
       "      <td>0</td>\n",
       "      <td>0</td>\n",
       "      <td>0</td>\n",
       "      <td>0</td>\n",
       "      <td>0</td>\n",
       "      <td>...</td>\n",
       "      <td>0</td>\n",
       "      <td>0</td>\n",
       "      <td>0</td>\n",
       "      <td>0</td>\n",
       "      <td>1</td>\n",
       "      <td>0</td>\n",
       "      <td>0</td>\n",
       "      <td>0</td>\n",
       "      <td>0</td>\n",
       "      <td>0</td>\n",
       "    </tr>\n",
       "    <tr>\n",
       "      <th>31834</th>\n",
       "      <td>738397</td>\n",
       "      <td>1</td>\n",
       "      <td>0</td>\n",
       "      <td>0</td>\n",
       "      <td>0</td>\n",
       "      <td>0</td>\n",
       "      <td>0</td>\n",
       "      <td>0</td>\n",
       "      <td>0</td>\n",
       "      <td>0</td>\n",
       "      <td>...</td>\n",
       "      <td>1</td>\n",
       "      <td>0</td>\n",
       "      <td>0</td>\n",
       "      <td>0</td>\n",
       "      <td>1</td>\n",
       "      <td>0</td>\n",
       "      <td>0</td>\n",
       "      <td>0</td>\n",
       "      <td>0</td>\n",
       "      <td>0</td>\n",
       "    </tr>\n",
       "  </tbody>\n",
       "</table></div>"
      ],
      "text/plain": [
       "       occurred_on_date  case_count  D_A1  D_A15  D_A7  D_B2  D_B3  D_C11  \\\n",
       "0                735764          23     1      0     0     0     0      0   \n",
       "1                735764           5     0      1     0     0     0      0   \n",
       "2                735764          10     0      0     1     0     0      0   \n",
       "3                735764          34     0      0     0     1     0      0   \n",
       "4                735764          26     0      0     0     0     1      0   \n",
       "...                 ...         ...   ...    ...   ...   ...   ...    ...   \n",
       "31830            738397           2     0      0     0     0     0      1   \n",
       "31831            738397           1     0      0     0     0     0      0   \n",
       "31832            738397           1     0      0     0     0     0      0   \n",
       "31833            738397           2     0      0     0     0     0      0   \n",
       "31834            738397           1     0      0     0     0     0      0   \n",
       "\n",
       "       D_C6  D_D14  ...  D_E18  D_E5  D_External  day_1  day_2  day_3  day_4  \\\n",
       "0         0      0  ...      0     0           0      1      0      0      0   \n",
       "1         0      0  ...      0     0           0      1      0      0      0   \n",
       "2         0      0  ...      0     0           0      1      0      0      0   \n",
       "3         0      0  ...      0     0           0      1      0      0      0   \n",
       "4         0      0  ...      0     0           0      1      0      0      0   \n",
       "...     ...    ...  ...    ...   ...         ...    ...    ...    ...    ...   \n",
       "31830     0      0  ...      0     0           0      0      1      0      0   \n",
       "31831     1      0  ...      0     0           0      0      1      0      0   \n",
       "31832     0      1  ...      0     0           0      0      1      0      0   \n",
       "31833     0      0  ...      0     0           0      0      1      0      0   \n",
       "31834     0      0  ...      1     0           0      0      1      0      0   \n",
       "\n",
       "       day_5  day_6  day_7  \n",
       "0          0      0      0  \n",
       "1          0      0      0  \n",
       "2          0      0      0  \n",
       "3          0      0      0  \n",
       "4          0      0      0  \n",
       "...      ...    ...    ...  \n",
       "31830      0      0      0  \n",
       "31831      0      0      0  \n",
       "31832      0      0      0  \n",
       "31833      0      0      0  \n",
       "31834      0      0      0  \n",
       "\n",
       "[31835 rows x 22 columns]"
      ]
     },
     "execution_count": 80,
     "metadata": {},
     "output_type": "execute_result"
    }
   ],
   "source": [
    "df_reg"
   ]
  },
  {
   "cell_type": "code",
   "execution_count": 84,
   "id": "723d49bb-9ad3-4ca3-b6b4-879166b155ef",
   "metadata": {},
   "outputs": [],
   "source": [
    "from sklearn.model_selection import train_test_split as tts\n",
    "from sklearn.linear_model import LinearRegression\n",
    "from xgboost import XGBRegressor\n",
    "from sklearn.metrics import r2_score, mean_absolute_error"
   ]
  },
  {
   "cell_type": "code",
   "execution_count": 81,
   "id": "3ab9776e-cff5-43fc-bc79-6086189769fc",
   "metadata": {},
   "outputs": [],
   "source": [
    "x = df_reg.drop('case_count', axis = 1)\n",
    "y = df_reg['case_count']"
   ]
  },
  {
   "cell_type": "code",
   "execution_count": 82,
   "id": "4f041d54-0843-4755-bf92-5cb91ec5b4f7",
   "metadata": {},
   "outputs": [],
   "source": [
    "x_train, x_test, y_train, y_test = tts(x, y, test_size = 20, random_state = 142)"
   ]
  },
  {
   "cell_type": "code",
   "execution_count": 83,
   "id": "1417d2da-985c-4e04-a071-e429b8083ab9",
   "metadata": {},
   "outputs": [
    {
     "name": "stdout",
     "output_type": "stream",
     "text": [
      "0.41339741456368706\n"
     ]
    }
   ],
   "source": [
    "lr = LinearRegression().fit(x_train, y_train)\n",
    "pred = lr.predict(x_test)\n",
    "print(r2_score(y_test, pred))"
   ]
  },
  {
   "cell_type": "code",
   "execution_count": 90,
   "id": "eece4827-0d15-4947-8fcb-1a8d89f51ab9",
   "metadata": {},
   "outputs": [
    {
     "name": "stdout",
     "output_type": "stream",
     "text": [
      "0.5937286492993276\n"
     ]
    }
   ],
   "source": [
    "xgb = XGBRegressor(n_estimators = 200).fit(x_train, y_train)\n",
    "pred = xgb.predict(x_test)\n",
    "print(r2_score(y_test, pred))"
   ]
  },
  {
   "cell_type": "code",
   "execution_count": 69,
   "id": "00dc7309-e479-4c0a-8dc6-ecfde878b314",
   "metadata": {},
   "outputs": [],
   "source": [
    "for i in x.columns:\n",
    "    if df[i].nunique() > 2 and df[i].nunique() < 15:\n",
    "        df[i] = df[i].astype('category')"
   ]
  },
  {
   "cell_type": "code",
   "execution_count": 70,
   "id": "a18066f6-7239-466a-a703-780b8649f87a",
   "metadata": {},
   "outputs": [
    {
     "name": "stdout",
     "output_type": "stream",
     "text": [
      "<class 'pandas.core.frame.DataFrame'>\n",
      "RangeIndex: 21116 entries, 0 to 21115\n",
      "Data columns (total 23 columns):\n",
      " #   Column                      Non-Null Count  Dtype   \n",
      "---  ------                      --------------  -----   \n",
      " 0   incident_number             21116 non-null  object  \n",
      " 1   offense_code                21116 non-null  category\n",
      " 2   offense_code_group          21116 non-null  object  \n",
      " 3   offense_description         21116 non-null  object  \n",
      " 4   district                    21116 non-null  category\n",
      " 5   reporting_area              21116 non-null  object  \n",
      " 6   shooting                    21116 non-null  int64   \n",
      " 7   occurred_on_date            21116 non-null  object  \n",
      " 8   year                        21116 non-null  category\n",
      " 9   month                       21116 non-null  category\n",
      " 10  day_of_week                 21116 non-null  category\n",
      " 11  hour                        21116 non-null  int64   \n",
      " 12  ucr_part                    21116 non-null  object  \n",
      " 13  street                      21116 non-null  object  \n",
      " 14  lat                         21116 non-null  float64 \n",
      " 15  long                        21116 non-null  float64 \n",
      " 16  location                    21116 non-null  object  \n",
      " 17  season                      21116 non-null  category\n",
      " 18  avg_high_temp (C)           21116 non-null  category\n",
      " 19  avg_low_temp (C)            21116 non-null  category\n",
      " 20  avg_precipitation (inches)  21116 non-null  category\n",
      " 21  snow (inches)               21116 non-null  category\n",
      " 22  unemployment_rate           21116 non-null  float64 \n",
      "dtypes: category(10), float64(3), int64(2), object(8)\n",
      "memory usage: 2.3+ MB\n"
     ]
    }
   ],
   "source": [
    "df.info()"
   ]
  },
  {
   "cell_type": "code",
   "execution_count": null,
   "id": "fb2ec414-6c11-4f57-9999-48f3e173218d",
   "metadata": {},
   "outputs": [],
   "source": []
  },
  {
   "cell_type": "code",
   "execution_count": 32,
   "id": "450c94ba-f551-4b54-bc95-24cda38a3b0a",
   "metadata": {},
   "outputs": [
    {
     "data": {
      "text/plain": [
       "4"
      ]
     },
     "execution_count": 32,
     "metadata": {},
     "output_type": "execute_result"
    }
   ],
   "source": [
    "len(df.offense_code.unique())"
   ]
  },
  {
   "cell_type": "code",
   "execution_count": 72,
   "id": "43d90eaa-9f7f-4135-a4e6-ab468376cadd",
   "metadata": {},
   "outputs": [],
   "source": [
    "df.drop(['incident_number', 'offense_code_group', 'offense_description', 'occurred_on_date', 'street', 'location'], axis = 1, inplace = True)"
   ]
  },
  {
   "cell_type": "code",
   "execution_count": 73,
   "id": "216136a3-4cf2-43b3-bc6b-94a21100d69b",
   "metadata": {},
   "outputs": [
    {
     "name": "stdout",
     "output_type": "stream",
     "text": [
      "<class 'pandas.core.frame.DataFrame'>\n",
      "RangeIndex: 21116 entries, 0 to 21115\n",
      "Data columns (total 17 columns):\n",
      " #   Column                      Non-Null Count  Dtype   \n",
      "---  ------                      --------------  -----   \n",
      " 0   offense_code                21116 non-null  category\n",
      " 1   district                    21116 non-null  category\n",
      " 2   reporting_area              21116 non-null  object  \n",
      " 3   shooting                    21116 non-null  int64   \n",
      " 4   year                        21116 non-null  category\n",
      " 5   month                       21116 non-null  category\n",
      " 6   day_of_week                 21116 non-null  category\n",
      " 7   hour                        21116 non-null  int64   \n",
      " 8   ucr_part                    21116 non-null  object  \n",
      " 9   lat                         21116 non-null  float64 \n",
      " 10  long                        21116 non-null  float64 \n",
      " 11  season                      21116 non-null  category\n",
      " 12  avg_high_temp (C)           21116 non-null  category\n",
      " 13  avg_low_temp (C)            21116 non-null  category\n",
      " 14  avg_precipitation (inches)  21116 non-null  category\n",
      " 15  snow (inches)               21116 non-null  category\n",
      " 16  unemployment_rate           21116 non-null  float64 \n",
      "dtypes: category(10), float64(3), int64(2), object(2)\n",
      "memory usage: 1.3+ MB\n"
     ]
    }
   ],
   "source": [
    "df.info()"
   ]
  },
  {
   "cell_type": "code",
   "execution_count": 33,
   "id": "02f15620-d883-4561-bf1f-6266168dba81",
   "metadata": {},
   "outputs": [
    {
     "data": {
      "text/plain": [
       "\"data_profile = pandas_profiling.ProfileReport(df)\\ndata_profile.to_file(output_file = 'final_Data_Profile.html')\""
      ]
     },
     "execution_count": 33,
     "metadata": {},
     "output_type": "execute_result"
    }
   ],
   "source": [
    "\"\"\"data_profile = pandas_profiling.ProfileReport(df)\n",
    "data_profile.to_file(output_file = 'final_Data_Profile.html')\"\"\"\n"
   ]
  },
  {
   "cell_type": "code",
   "execution_count": null,
   "id": "9f042fc7-4f76-4ce6-bd02-4378fdae4965",
   "metadata": {},
   "outputs": [],
   "source": []
  },
  {
   "cell_type": "code",
   "execution_count": null,
   "id": "4876d5c8-10b0-4a29-a882-fc614c245131",
   "metadata": {},
   "outputs": [],
   "source": []
  },
  {
   "cell_type": "code",
   "execution_count": null,
   "id": "f9cb4d57-f734-4244-b2db-dc212df15d9b",
   "metadata": {},
   "outputs": [],
   "source": []
  },
  {
   "cell_type": "code",
   "execution_count": null,
   "id": "aea95e5a-7f80-49b6-ad7b-2ce3f1e06ece",
   "metadata": {},
   "outputs": [],
   "source": []
  },
  {
   "cell_type": "code",
   "execution_count": null,
   "id": "ba052e47-e02b-443e-897c-b4833b326774",
   "metadata": {},
   "outputs": [],
   "source": []
  },
  {
   "cell_type": "code",
   "execution_count": 34,
   "id": "ce0ef5f6-777c-4863-b927-e567b843fce7",
   "metadata": {},
   "outputs": [],
   "source": [
    "new_df = copy.deepcopy(df)"
   ]
  },
  {
   "cell_type": "code",
   "execution_count": 35,
   "id": "9a1ed036-e888-4329-a35b-6e86bd0ab373",
   "metadata": {},
   "outputs": [],
   "source": [
    "new_df = new_df[['offense_code', 'district', 'shooting', 'month', 'day_of_week', 'hour', 'ucr_part', 'lat', 'long']]"
   ]
  },
  {
   "cell_type": "code",
   "execution_count": null,
   "id": "ea152f1a-dab4-4da9-b70a-19961ed52fc0",
   "metadata": {},
   "outputs": [],
   "source": []
  },
  {
   "cell_type": "code",
   "execution_count": 36,
   "id": "5046eba0-c25b-4aec-a76a-ab10d72738fb",
   "metadata": {},
   "outputs": [
    {
     "name": "stdout",
     "output_type": "stream",
     "text": [
      "<class 'pandas.core.frame.DataFrame'>\n",
      "RangeIndex: 21116 entries, 0 to 21115\n",
      "Data columns (total 9 columns):\n",
      " #   Column        Non-Null Count  Dtype  \n",
      "---  ------        --------------  -----  \n",
      " 0   offense_code  21116 non-null  object \n",
      " 1   district      21116 non-null  object \n",
      " 2   shooting      21116 non-null  int64  \n",
      " 3   month         21116 non-null  int64  \n",
      " 4   day_of_week   21116 non-null  object \n",
      " 5   hour          21116 non-null  int64  \n",
      " 6   ucr_part      21116 non-null  object \n",
      " 7   lat           21116 non-null  float64\n",
      " 8   long          21116 non-null  float64\n",
      "dtypes: float64(2), int64(3), object(4)\n",
      "memory usage: 1.5+ MB\n"
     ]
    }
   ],
   "source": [
    "new_df.info()"
   ]
  },
  {
   "cell_type": "code",
   "execution_count": 37,
   "id": "97a4823e-5f1f-4b6a-bed4-066502bc3c73",
   "metadata": {},
   "outputs": [
    {
     "data": {
      "text/plain": [
       "dtype('O')"
      ]
     },
     "execution_count": 37,
     "metadata": {},
     "output_type": "execute_result"
    }
   ],
   "source": [
    "df['ucr_part'].dtype"
   ]
  },
  {
   "cell_type": "code",
   "execution_count": 38,
   "id": "b3312846-c43e-4172-98ee-3e75dcd6fcd9",
   "metadata": {},
   "outputs": [],
   "source": [
    "enc = le()\n",
    "for i in new_df.columns:\n",
    "    if new_df[i].dtype == 'O':\n",
    "        new_df[i] = enc.fit_transform(df[i])"
   ]
  },
  {
   "cell_type": "code",
   "execution_count": 50,
   "id": "a5e62086-5eaf-4971-9390-e9b2ed32cad6",
   "metadata": {},
   "outputs": [
    {
     "data": {
      "text/html": [
       "<div><div id=02a8c675-e511-41aa-9742-1d56997375f4 style=\"display:none; background-color:#9D6CFF; color:white; width:200px; height:30px; padding-left:5px; border-radius:4px; flex-direction:row; justify-content:space-around; align-items:center;\" onmouseover=\"this.style.backgroundColor='#BA9BF8'\" onmouseout=\"this.style.backgroundColor='#9D6CFF'\" onclick=\"window.commands?.execute('create-mitosheet-from-dataframe-output');\">See Full Dataframe in Mito</div> <script> if (window.commands?.hasCommand('create-mitosheet-from-dataframe-output')) document.getElementById('02a8c675-e511-41aa-9742-1d56997375f4').style.display = 'flex' </script> <table border=\"1\" class=\"dataframe\">\n",
       "  <thead>\n",
       "    <tr style=\"text-align: right;\">\n",
       "      <th></th>\n",
       "      <th>offense_code</th>\n",
       "      <th>district</th>\n",
       "      <th>shooting</th>\n",
       "      <th>month</th>\n",
       "      <th>day_of_week</th>\n",
       "      <th>hour</th>\n",
       "      <th>ucr_part</th>\n",
       "      <th>lat</th>\n",
       "      <th>long</th>\n",
       "    </tr>\n",
       "  </thead>\n",
       "  <tbody>\n",
       "    <tr>\n",
       "      <th>0</th>\n",
       "      <td>0</td>\n",
       "      <td>8</td>\n",
       "      <td>0</td>\n",
       "      <td>12</td>\n",
       "      <td>5</td>\n",
       "      <td>12</td>\n",
       "      <td>3</td>\n",
       "      <td>42.342432</td>\n",
       "      <td>-71.072258</td>\n",
       "    </tr>\n",
       "    <tr>\n",
       "      <th>1</th>\n",
       "      <td>0</td>\n",
       "      <td>10</td>\n",
       "      <td>0</td>\n",
       "      <td>12</td>\n",
       "      <td>5</td>\n",
       "      <td>12</td>\n",
       "      <td>3</td>\n",
       "      <td>42.268897</td>\n",
       "      <td>-71.108137</td>\n",
       "    </tr>\n",
       "    <tr>\n",
       "      <th>2</th>\n",
       "      <td>0</td>\n",
       "      <td>3</td>\n",
       "      <td>0</td>\n",
       "      <td>12</td>\n",
       "      <td>5</td>\n",
       "      <td>12</td>\n",
       "      <td>3</td>\n",
       "      <td>42.323410</td>\n",
       "      <td>-71.093396</td>\n",
       "    </tr>\n",
       "    <tr>\n",
       "      <th>3</th>\n",
       "      <td>0</td>\n",
       "      <td>4</td>\n",
       "      <td>0</td>\n",
       "      <td>12</td>\n",
       "      <td>5</td>\n",
       "      <td>0</td>\n",
       "      <td>3</td>\n",
       "      <td>42.279971</td>\n",
       "      <td>-71.095534</td>\n",
       "    </tr>\n",
       "    <tr>\n",
       "      <th>4</th>\n",
       "      <td>3</td>\n",
       "      <td>2</td>\n",
       "      <td>0</td>\n",
       "      <td>12</td>\n",
       "      <td>5</td>\n",
       "      <td>0</td>\n",
       "      <td>1</td>\n",
       "      <td>42.370818</td>\n",
       "      <td>-71.039291</td>\n",
       "    </tr>\n",
       "    <tr>\n",
       "      <th>...</th>\n",
       "      <td>...</td>\n",
       "      <td>...</td>\n",
       "      <td>...</td>\n",
       "      <td>...</td>\n",
       "      <td>...</td>\n",
       "      <td>...</td>\n",
       "      <td>...</td>\n",
       "      <td>...</td>\n",
       "      <td>...</td>\n",
       "    </tr>\n",
       "    <tr>\n",
       "      <th>21111</th>\n",
       "      <td>1</td>\n",
       "      <td>0</td>\n",
       "      <td>0</td>\n",
       "      <td>1</td>\n",
       "      <td>2</td>\n",
       "      <td>1</td>\n",
       "      <td>2</td>\n",
       "      <td>42.359330</td>\n",
       "      <td>-71.053550</td>\n",
       "    </tr>\n",
       "    <tr>\n",
       "      <th>21112</th>\n",
       "      <td>3</td>\n",
       "      <td>0</td>\n",
       "      <td>0</td>\n",
       "      <td>1</td>\n",
       "      <td>2</td>\n",
       "      <td>0</td>\n",
       "      <td>1</td>\n",
       "      <td>42.360688</td>\n",
       "      <td>-71.056873</td>\n",
       "    </tr>\n",
       "    <tr>\n",
       "      <th>21113</th>\n",
       "      <td>0</td>\n",
       "      <td>11</td>\n",
       "      <td>0</td>\n",
       "      <td>1</td>\n",
       "      <td>2</td>\n",
       "      <td>0</td>\n",
       "      <td>3</td>\n",
       "      <td>42.292092</td>\n",
       "      <td>-71.121089</td>\n",
       "    </tr>\n",
       "    <tr>\n",
       "      <th>21114</th>\n",
       "      <td>3</td>\n",
       "      <td>8</td>\n",
       "      <td>0</td>\n",
       "      <td>1</td>\n",
       "      <td>2</td>\n",
       "      <td>0</td>\n",
       "      <td>1</td>\n",
       "      <td>42.346251</td>\n",
       "      <td>-71.099539</td>\n",
       "    </tr>\n",
       "    <tr>\n",
       "      <th>21115</th>\n",
       "      <td>1</td>\n",
       "      <td>9</td>\n",
       "      <td>0</td>\n",
       "      <td>1</td>\n",
       "      <td>2</td>\n",
       "      <td>15</td>\n",
       "      <td>2</td>\n",
       "      <td>42.304874</td>\n",
       "      <td>-71.107211</td>\n",
       "    </tr>\n",
       "  </tbody>\n",
       "</table></div>"
      ],
      "text/plain": [
       "       offense_code  district  shooting  month  day_of_week  hour  ucr_part  \\\n",
       "0                 0         8         0     12            5    12         3   \n",
       "1                 0        10         0     12            5    12         3   \n",
       "2                 0         3         0     12            5    12         3   \n",
       "3                 0         4         0     12            5     0         3   \n",
       "4                 3         2         0     12            5     0         1   \n",
       "...             ...       ...       ...    ...          ...   ...       ...   \n",
       "21111             1         0         0      1            2     1         2   \n",
       "21112             3         0         0      1            2     0         1   \n",
       "21113             0        11         0      1            2     0         3   \n",
       "21114             3         8         0      1            2     0         1   \n",
       "21115             1         9         0      1            2    15         2   \n",
       "\n",
       "             lat       long  \n",
       "0      42.342432 -71.072258  \n",
       "1      42.268897 -71.108137  \n",
       "2      42.323410 -71.093396  \n",
       "3      42.279971 -71.095534  \n",
       "4      42.370818 -71.039291  \n",
       "...          ...        ...  \n",
       "21111  42.359330 -71.053550  \n",
       "21112  42.360688 -71.056873  \n",
       "21113  42.292092 -71.121089  \n",
       "21114  42.346251 -71.099539  \n",
       "21115  42.304874 -71.107211  \n",
       "\n",
       "[21116 rows x 9 columns]"
      ]
     },
     "execution_count": 50,
     "metadata": {},
     "output_type": "execute_result"
    }
   ],
   "source": [
    "new_df"
   ]
  },
  {
   "cell_type": "code",
   "execution_count": 40,
   "id": "211dbb18-1c35-444f-afd5-db9c3a893a9e",
   "metadata": {},
   "outputs": [
    {
     "data": {
      "text/plain": [
       "<AxesSubplot:>"
      ]
     },
     "execution_count": 40,
     "metadata": {},
     "output_type": "execute_result"
    },
    {
     "data": {
      "image/png": "[encoded data removed]",
      "text/plain": [
       "<Figure size 1400x600 with 2 Axes>"
      ]
     },
     "metadata": {},
     "output_type": "display_data"
    }
   ],
   "source": [
    "plt.figure(figsize = (14,6))\n",
    "sb.heatmap(new_df.corr(), vmin = -1, vmax = 1, annot = True)"
   ]
  },
  {
   "cell_type": "code",
   "execution_count": null,
   "id": "40d4a85d-6253-44a2-a12e-03a77c458122",
   "metadata": {},
   "outputs": [],
   "source": []
  },
  {
   "cell_type": "code",
   "execution_count": 41,
   "id": "42a21332-1264-49f2-bd8f-10e1339ea29e",
   "metadata": {},
   "outputs": [],
   "source": [
    "x = new_df.drop('ucr_part', axis = 1)\n",
    "y = new_df['ucr_part']"
   ]
  },
  {
   "cell_type": "code",
   "execution_count": 42,
   "id": "b9e6c2d3-4bb4-4d2a-bc7f-ece2435f3d9b",
   "metadata": {},
   "outputs": [],
   "source": [
    "x_train, x_test, y_train, y_test = tts(x,y, test_size = 0.25)"
   ]
  },
  {
   "cell_type": "code",
   "execution_count": 43,
   "id": "c80199eb-97aa-4538-82f9-e500da72b78f",
   "metadata": {},
   "outputs": [
    {
     "data": {
      "text/plain": [
       "2    7838\n",
       "3    5028\n",
       "1    2917\n",
       "0      54\n",
       "Name: ucr_part, dtype: int64"
      ]
     },
     "execution_count": 43,
     "metadata": {},
     "output_type": "execute_result"
    }
   ],
   "source": [
    "y_train.value_counts()"
   ]
  },
  {
   "cell_type": "code",
   "execution_count": 44,
   "id": "89837e15-b06d-4e35-9a05-3fd1d11e380c",
   "metadata": {},
   "outputs": [],
   "source": [
    "over_sample = SMOTE(n_jobs = -1)\n",
    "x_train,y_train= over_sample.fit_resample(x_train,y_train)"
   ]
  },
  {
   "cell_type": "code",
   "execution_count": 45,
   "id": "79920ccc-4bf6-40f5-92fb-dc11b369c1f8",
   "metadata": {},
   "outputs": [
    {
     "data": {
      "text/plain": [
       "array([3, 2, 2, ..., 1, 1, 2])"
      ]
     },
     "execution_count": 45,
     "metadata": {},
     "output_type": "execute_result"
    }
   ],
   "source": [
    "dtc = DecisionTreeClassifier().fit(x_train, y_train)\n",
    "pred = dtc.predict(x_test)\n",
    "pred"
   ]
  },
  {
   "cell_type": "code",
   "execution_count": 46,
   "id": "9f83c8ed-a806-494a-a2db-8a238271cb8c",
   "metadata": {},
   "outputs": [
    {
     "name": "stdout",
     "output_type": "stream",
     "text": [
      "              precision    recall  f1-score   support\n",
      "\n",
      "           0       1.00      1.00      1.00        17\n",
      "           1       1.00      1.00      1.00       972\n",
      "           2       1.00      1.00      1.00      2601\n",
      "           3       1.00      1.00      1.00      1689\n",
      "\n",
      "    accuracy                           1.00      5279\n",
      "   macro avg       1.00      1.00      1.00      5279\n",
      "weighted avg       1.00      1.00      1.00      5279\n",
      "\n"
     ]
    }
   ],
   "source": [
    "print(cr(pred, y_test))"
   ]
  },
  {
   "cell_type": "code",
   "execution_count": 47,
   "id": "ffc0fd4c-bf4a-42a5-b398-515bf5cbea97",
   "metadata": {},
   "outputs": [
    {
     "data": {
      "image/png": "[encoded data removed]",
      "text/plain": [
       "<Figure size 1200x1000 with 1 Axes>"
      ]
     },
     "metadata": {},
     "output_type": "display_data"
    }
   ],
   "source": [
    "feature_names = list(x.columns)\n",
    "importances = dtc.feature_importances_\n",
    "indices = np.argsort(importances)\n",
    "plt.figure(figsize=(12, 10))\n",
    "plt.title(\"Feature Importances\")\n",
    "plt.barh(range(len(indices)), importances[indices], color=\"blue\", align=\"center\")\n",
    "plt.yticks(range(len(indices)), [feature_names[i] for i in indices])\n",
    "plt.xlabel(\"Relative Importance\")\n",
    "plt.show()"
   ]
  },
  {
   "cell_type": "code",
   "execution_count": 48,
   "id": "ad92ab8a-eb04-4df4-bc72-f54cfc7fbded",
   "metadata": {},
   "outputs": [],
   "source": [
    "from sklearn.feature_selection import VarianceThreshold"
   ]
  },
  {
   "cell_type": "code",
   "execution_count": 49,
   "id": "9c241637-4956-4ec6-bf12-01f7127e6cbe",
   "metadata": {},
   "outputs": [
    {
     "data": {
      "text/plain": [
       "array([[  0.        ,   5.        ,   0.        , ...,  16.        ,\n",
       "         42.30839354, -71.06473124],\n",
       "       [  0.        ,   4.        ,   0.        , ...,  11.        ,\n",
       "         42.29276044, -71.07486603],\n",
       "       [  1.        ,   3.        ,   0.        , ...,  10.        ,\n",
       "         42.32866284, -71.08563401],\n",
       "       ...,\n",
       "       [  0.        ,   9.        ,   0.        , ...,  15.        ,\n",
       "         42.31603034, -71.09781673],\n",
       "       [  0.        ,  11.        ,   0.        , ...,  12.        ,\n",
       "         42.28721378, -71.14757726],\n",
       "       [  0.        ,   2.        ,   0.        , ...,   9.        ,\n",
       "         42.34117031, -71.0847324 ]])"
      ]
     },
     "execution_count": 49,
     "metadata": {},
     "output_type": "execute_result"
    }
   ],
   "source": [
    "selector = VarianceThreshold()\n",
    "selector.fit_transform(x_train)"
   ]
  },
  {
   "cell_type": "code",
   "execution_count": 9,
   "id": "dfcea1b5-d226-486e-8f50-f05b9b59a183",
   "metadata": {},
   "outputs": [],
   "source": [
    " from tqdm import tqdm"
   ]
  },
  {
   "cell_type": "code",
   "execution_count": 13,
   "id": "bcefaeef-ebec-4fe7-816e-54a2404ffbef",
   "metadata": {},
   "outputs": [],
   "source": [
    "a = [1,2,3]"
   ]
  },
  {
   "cell_type": "code",
   "execution_count": 14,
   "id": "235df75a-6506-4e8b-a317-589908587809",
   "metadata": {},
   "outputs": [
    {
     "name": "stderr",
     "output_type": "stream",
     "text": [
      "100%|████████████████████████████████████████████████████████████████████████████████████████████| 3/3 [00:00<?, ?it/s]\n"
     ]
    }
   ],
   "source": [
    "for i in tqdm(a):\n",
    "    pass"
   ]
  }
 ],
 "metadata": {
  "kernelspec": {
   "display_name": "Python 3 (ipykernel)",
   "language": "python",
   "name": "python3"
  },
  "language_info": {
   "codemirror_mode": {
    "name": "ipython",
    "version": 3
   },
   "file_extension": ".py",
   "mimetype": "text/x-python",
   "name": "python",
   "nbconvert_exporter": "python",
   "pygments_lexer": "ipython3",
   "version": "3.9.0"
  }
 },
 "nbformat": 4,
 "nbformat_minor": 5
}
