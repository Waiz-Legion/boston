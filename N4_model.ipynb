{
 "cells": [
  {
   "cell_type": "code",
   "execution_count": 153,
   "id": "8323fab1-5bcd-40cf-86c9-f6fe17abd1cf",
   "metadata": {},
   "outputs": [],
   "source": [
    "import pandas as pd\n",
    "import numpy as np\n",
    "import seaborn as sb\n",
    "import copy\n",
    "import pandas_profiling\n",
    "import matplotlib.pyplot as plt\n",
    "from imblearn.over_sampling import SMOTE\n",
    "from sklearn.preprocessing import OneHotEncoder as ohe, LabelEncoder as le\n",
    "import warnings\n",
    "from sklearn.tree import DecisionTreeClassifier\n",
    "from sklearn.model_selection import train_test_split as tts\n",
    "from sklearn.metrics import classification_report as cr\n",
    "%matplotlib inline\n",
    "warnings.filterwarnings('ignore')"
   ]
  },
  {
   "cell_type": "code",
   "execution_count": 154,
   "id": "365bb01f-1dbd-43b8-8120-0e9f1b3e8bd2",
   "metadata": {},
   "outputs": [],
   "source": [
    "df = pd.read_csv('forModel.csv')"
   ]
  },
  {
   "cell_type": "code",
   "execution_count": 155,
   "id": "3f63c092-cc90-401b-a69a-dbc197904164",
   "metadata": {},
   "outputs": [
    {
     "data": {
      "text/html": [
       "<div><div id=46313ca7-8644-48a1-b472-879efc055ae7 style=\"display:none; background-color:#9D6CFF; color:white; width:200px; height:30px; padding-left:5px; border-radius:4px; flex-direction:row; justify-content:space-around; align-items:center;\" onmouseover=\"this.style.backgroundColor='#BA9BF8'\" onmouseout=\"this.style.backgroundColor='#9D6CFF'\" onclick=\"window.commands?.execute('create-mitosheet-from-dataframe-output');\">See Full Dataframe in Mito</div> <script> if (window.commands?.hasCommand('create-mitosheet-from-dataframe-output')) document.getElementById('46313ca7-8644-48a1-b472-879efc055ae7').style.display = 'flex' </script> <table border=\"1\" class=\"dataframe\">\n",
       "  <thead>\n",
       "    <tr style=\"text-align: right;\">\n",
       "      <th></th>\n",
       "      <th>incident_number</th>\n",
       "      <th>offense_code</th>\n",
       "      <th>offense_code_group</th>\n",
       "      <th>offense_description</th>\n",
       "      <th>district</th>\n",
       "      <th>reporting_area</th>\n",
       "      <th>shooting</th>\n",
       "      <th>year</th>\n",
       "      <th>month</th>\n",
       "      <th>day_of_week</th>\n",
       "      <th>hour</th>\n",
       "      <th>ucr_part</th>\n",
       "      <th>street</th>\n",
       "      <th>lat</th>\n",
       "      <th>long</th>\n",
       "      <th>location</th>\n",
       "    </tr>\n",
       "  </thead>\n",
       "  <tbody>\n",
       "    <tr>\n",
       "      <th>0</th>\n",
       "      <td>I192068249</td>\n",
       "      <td>2647</td>\n",
       "      <td>other</td>\n",
       "      <td>threats to do bodily harm</td>\n",
       "      <td>B2</td>\n",
       "      <td>280</td>\n",
       "      <td>0</td>\n",
       "      <td>2015</td>\n",
       "      <td>8</td>\n",
       "      <td>Friday</td>\n",
       "      <td>10</td>\n",
       "      <td>Part Two</td>\n",
       "      <td>washington st</td>\n",
       "      <td>42.330119</td>\n",
       "      <td>-71.084251</td>\n",
       "      <td>(42.33011862, -71.08425106)</td>\n",
       "    </tr>\n",
       "    <tr>\n",
       "      <th>1</th>\n",
       "      <td>I192061894</td>\n",
       "      <td>1106</td>\n",
       "      <td>confidence games</td>\n",
       "      <td>fraud - credit card / atm fraud</td>\n",
       "      <td>C11</td>\n",
       "      <td>356</td>\n",
       "      <td>0</td>\n",
       "      <td>2015</td>\n",
       "      <td>8</td>\n",
       "      <td>Thursday</td>\n",
       "      <td>0</td>\n",
       "      <td>Part Two</td>\n",
       "      <td>charles st</td>\n",
       "      <td>42.300605</td>\n",
       "      <td>-71.061268</td>\n",
       "      <td>(42.30060543, -71.06126785)</td>\n",
       "    </tr>\n",
       "    <tr>\n",
       "      <th>2</th>\n",
       "      <td>I192038828</td>\n",
       "      <td>1107</td>\n",
       "      <td>fraud</td>\n",
       "      <td>fraud - impersonation</td>\n",
       "      <td>A1</td>\n",
       "      <td>172</td>\n",
       "      <td>0</td>\n",
       "      <td>2015</td>\n",
       "      <td>11</td>\n",
       "      <td>Monday</td>\n",
       "      <td>12</td>\n",
       "      <td>Part Two</td>\n",
       "      <td>albany st</td>\n",
       "      <td>42.334288</td>\n",
       "      <td>-71.072395</td>\n",
       "      <td>(42.33428841, -71.07239518)</td>\n",
       "    </tr>\n",
       "    <tr>\n",
       "      <th>3</th>\n",
       "      <td>I192008877</td>\n",
       "      <td>1107</td>\n",
       "      <td>fraud</td>\n",
       "      <td>fraud - impersonation</td>\n",
       "      <td>E18</td>\n",
       "      <td>525</td>\n",
       "      <td>0</td>\n",
       "      <td>2015</td>\n",
       "      <td>7</td>\n",
       "      <td>Friday</td>\n",
       "      <td>10</td>\n",
       "      <td>Part Two</td>\n",
       "      <td>wingate rd</td>\n",
       "      <td>42.237009</td>\n",
       "      <td>-71.129566</td>\n",
       "      <td>(42.23700950, -71.12956606)</td>\n",
       "    </tr>\n",
       "    <tr>\n",
       "      <th>4</th>\n",
       "      <td>I182090828</td>\n",
       "      <td>1102</td>\n",
       "      <td>fraud</td>\n",
       "      <td>fraud - false pretense / scheme</td>\n",
       "      <td>D4</td>\n",
       "      <td>159</td>\n",
       "      <td>0</td>\n",
       "      <td>2015</td>\n",
       "      <td>12</td>\n",
       "      <td>Tuesday</td>\n",
       "      <td>12</td>\n",
       "      <td>Part Two</td>\n",
       "      <td>upton st</td>\n",
       "      <td>42.342432</td>\n",
       "      <td>-71.072258</td>\n",
       "      <td>(42.34243222, -71.07225766)</td>\n",
       "    </tr>\n",
       "  </tbody>\n",
       "</table></div>"
      ],
      "text/plain": [
       "  incident_number  offense_code offense_code_group  \\\n",
       "0      I192068249          2647              other   \n",
       "1      I192061894          1106   confidence games   \n",
       "2      I192038828          1107              fraud   \n",
       "3      I192008877          1107              fraud   \n",
       "4      I182090828          1102              fraud   \n",
       "\n",
       "               offense_description district reporting_area  shooting  year  \\\n",
       "0        threats to do bodily harm       B2            280         0  2015   \n",
       "1  fraud - credit card / atm fraud      C11            356         0  2015   \n",
       "2            fraud - impersonation       A1            172         0  2015   \n",
       "3            fraud - impersonation      E18            525         0  2015   \n",
       "4  fraud - false pretense / scheme       D4            159         0  2015   \n",
       "\n",
       "   month day_of_week  hour  ucr_part         street        lat       long  \\\n",
       "0      8      Friday    10  Part Two  washington st  42.330119 -71.084251   \n",
       "1      8    Thursday     0  Part Two     charles st  42.300605 -71.061268   \n",
       "2     11      Monday    12  Part Two      albany st  42.334288 -71.072395   \n",
       "3      7      Friday    10  Part Two     wingate rd  42.237009 -71.129566   \n",
       "4     12     Tuesday    12  Part Two       upton st  42.342432 -71.072258   \n",
       "\n",
       "                      location  \n",
       "0  (42.33011862, -71.08425106)  \n",
       "1  (42.30060543, -71.06126785)  \n",
       "2  (42.33428841, -71.07239518)  \n",
       "3  (42.23700950, -71.12956606)  \n",
       "4  (42.34243222, -71.07225766)  "
      ]
     },
     "execution_count": 155,
     "metadata": {},
     "output_type": "execute_result"
    }
   ],
   "source": [
    "df.head()"
   ]
  },
  {
   "cell_type": "code",
   "execution_count": 186,
   "id": "f5a4833b-6207-4058-b4ee-fea447194235",
   "metadata": {},
   "outputs": [],
   "source": [
    "partOne = list(set(df.groupby('ucr_part').get_group('Part One')['offense_code']))\n",
    "partTwo = list(set(df.groupby('ucr_part').get_group('Part Two')['offense_code']))\n",
    "partThree = list(set(df.groupby('ucr_part').get_group('Part Three')['offense_code']))\n",
    "partOther = list(set(df.groupby('ucr_part').get_group('Other')['offense_code']))"
   ]
  },
  {
   "cell_type": "code",
   "execution_count": 189,
   "id": "88fb2529-680e-4937-963e-d1fad8cb34dd",
   "metadata": {},
   "outputs": [],
   "source": [
    "for i in df.index:\n",
    "    if df['offense_code'][i] in partOne:\n",
    "        df['offense_code'][i] = 'serious_crime'\n",
    "    elif df['offense_code'][i] in partTwo:\n",
    "        df['offense_code'][i] = 'intermediate_crime'\n",
    "    elif df['offense_code'][i] in partThree:\n",
    "        df['offense_code'][i] = 'low_level_crime'\n",
    "    elif df['offense_code'][i] in partOther:\n",
    "        df['offense_code'][i] = 'other_crime'"
   ]
  },
  {
   "cell_type": "code",
   "execution_count": 194,
   "id": "450c94ba-f551-4b54-bc95-24cda38a3b0a",
   "metadata": {},
   "outputs": [
    {
     "data": {
      "text/plain": [
       "4"
      ]
     },
     "execution_count": 194,
     "metadata": {},
     "output_type": "execute_result"
    }
   ],
   "source": [
    "len(df.offense_code.unique())"
   ]
  },
  {
   "cell_type": "code",
   "execution_count": 156,
   "id": "02f15620-d883-4561-bf1f-6266168dba81",
   "metadata": {},
   "outputs": [
    {
     "data": {
      "text/plain": [
       "\"data_profile = pandas_profiling.ProfileReport(df)\\ndata_profile.to_file(output_file = 'final_Data_Profile.html')\""
      ]
     },
     "execution_count": 156,
     "metadata": {},
     "output_type": "execute_result"
    }
   ],
   "source": [
    "\"\"\"data_profile = pandas_profiling.ProfileReport(df)\n",
    "data_profile.to_file(output_file = 'final_Data_Profile.html')\"\"\"\n"
   ]
  },
  {
   "cell_type": "code",
   "execution_count": null,
   "id": "9f042fc7-4f76-4ce6-bd02-4378fdae4965",
   "metadata": {},
   "outputs": [],
   "source": []
  },
  {
   "cell_type": "code",
   "execution_count": null,
   "id": "4876d5c8-10b0-4a29-a882-fc614c245131",
   "metadata": {},
   "outputs": [],
   "source": []
  },
  {
   "cell_type": "code",
   "execution_count": null,
   "id": "f9cb4d57-f734-4244-b2db-dc212df15d9b",
   "metadata": {},
   "outputs": [],
   "source": []
  },
  {
   "cell_type": "code",
   "execution_count": null,
   "id": "aea95e5a-7f80-49b6-ad7b-2ce3f1e06ece",
   "metadata": {},
   "outputs": [],
   "source": []
  },
  {
   "cell_type": "code",
   "execution_count": null,
   "id": "ba052e47-e02b-443e-897c-b4833b326774",
   "metadata": {},
   "outputs": [],
   "source": []
  },
  {
   "cell_type": "code",
   "execution_count": 192,
   "id": "ce0ef5f6-777c-4863-b927-e567b843fce7",
   "metadata": {},
   "outputs": [],
   "source": [
    "new_df = copy.deepcopy(df)"
   ]
  },
  {
   "cell_type": "code",
   "execution_count": 158,
   "id": "9a1ed036-e888-4329-a35b-6e86bd0ab373",
   "metadata": {},
   "outputs": [],
   "source": [
    "new_df = new_df[['offense_code', 'district', 'shooting', 'month', 'day_of_week', 'hour', 'ucr_part', 'lat', 'long']]"
   ]
  },
  {
   "cell_type": "code",
   "execution_count": null,
   "id": "ea152f1a-dab4-4da9-b70a-19961ed52fc0",
   "metadata": {},
   "outputs": [],
   "source": []
  },
  {
   "cell_type": "code",
   "execution_count": 193,
   "id": "5046eba0-c25b-4aec-a76a-ab10d72738fb",
   "metadata": {},
   "outputs": [
    {
     "name": "stdout",
     "output_type": "stream",
     "text": [
      "<class 'pandas.core.frame.DataFrame'>\n",
      "RangeIndex: 581351 entries, 0 to 581350\n",
      "Data columns (total 16 columns):\n",
      " #   Column               Non-Null Count   Dtype  \n",
      "---  ------               --------------   -----  \n",
      " 0   incident_number      581351 non-null  object \n",
      " 1   offense_code         581351 non-null  object \n",
      " 2   offense_code_group   581351 non-null  object \n",
      " 3   offense_description  581351 non-null  object \n",
      " 4   district             581351 non-null  object \n",
      " 5   reporting_area       581351 non-null  object \n",
      " 6   shooting             581351 non-null  int64  \n",
      " 7   year                 581351 non-null  int64  \n",
      " 8   month                581351 non-null  int64  \n",
      " 9   day_of_week          581351 non-null  object \n",
      " 10  hour                 581351 non-null  int64  \n",
      " 11  ucr_part             581351 non-null  object \n",
      " 12  street               581351 non-null  object \n",
      " 13  lat                  581351 non-null  float64\n",
      " 14  long                 581351 non-null  float64\n",
      " 15  location             581351 non-null  object \n",
      "dtypes: float64(2), int64(4), object(10)\n",
      "memory usage: 71.0+ MB\n"
     ]
    }
   ],
   "source": [
    "new_df.info()"
   ]
  },
  {
   "cell_type": "code",
   "execution_count": 160,
   "id": "97a4823e-5f1f-4b6a-bed4-066502bc3c73",
   "metadata": {},
   "outputs": [
    {
     "data": {
      "text/plain": [
       "dtype('O')"
      ]
     },
     "execution_count": 160,
     "metadata": {},
     "output_type": "execute_result"
    }
   ],
   "source": [
    "df['ucr_part'].dtype"
   ]
  },
  {
   "cell_type": "code",
   "execution_count": 161,
   "id": "b3312846-c43e-4172-98ee-3e75dcd6fcd9",
   "metadata": {},
   "outputs": [],
   "source": [
    "enc = le()\n",
    "for i in new_df.columns:\n",
    "    if new_df[i].dtype == 'O':\n",
    "        new_df[i] = enc.fit_transform(df[i])"
   ]
  },
  {
   "cell_type": "code",
   "execution_count": 162,
   "id": "a5e62086-5eaf-4971-9390-e9b2ed32cad6",
   "metadata": {},
   "outputs": [
    {
     "data": {
      "text/html": [
       "<div><div id=19cb8dae-d830-467b-a046-9ff350235b69 style=\"display:none; background-color:#9D6CFF; color:white; width:200px; height:30px; padding-left:5px; border-radius:4px; flex-direction:row; justify-content:space-around; align-items:center;\" onmouseover=\"this.style.backgroundColor='#BA9BF8'\" onmouseout=\"this.style.backgroundColor='#9D6CFF'\" onclick=\"window.commands?.execute('create-mitosheet-from-dataframe-output');\">See Full Dataframe in Mito</div> <script> if (window.commands?.hasCommand('create-mitosheet-from-dataframe-output')) document.getElementById('19cb8dae-d830-467b-a046-9ff350235b69').style.display = 'flex' </script> <table border=\"1\" class=\"dataframe\">\n",
       "  <thead>\n",
       "    <tr style=\"text-align: right;\">\n",
       "      <th></th>\n",
       "      <th>offense_code</th>\n",
       "      <th>district</th>\n",
       "      <th>shooting</th>\n",
       "      <th>month</th>\n",
       "      <th>day_of_week</th>\n",
       "      <th>hour</th>\n",
       "      <th>ucr_part</th>\n",
       "      <th>lat</th>\n",
       "      <th>long</th>\n",
       "    </tr>\n",
       "  </thead>\n",
       "  <tbody>\n",
       "    <tr>\n",
       "      <th>0</th>\n",
       "      <td>2647</td>\n",
       "      <td>3</td>\n",
       "      <td>0</td>\n",
       "      <td>8</td>\n",
       "      <td>0</td>\n",
       "      <td>10</td>\n",
       "      <td>3</td>\n",
       "      <td>42.330119</td>\n",
       "      <td>-71.084251</td>\n",
       "    </tr>\n",
       "    <tr>\n",
       "      <th>1</th>\n",
       "      <td>1106</td>\n",
       "      <td>5</td>\n",
       "      <td>0</td>\n",
       "      <td>8</td>\n",
       "      <td>4</td>\n",
       "      <td>0</td>\n",
       "      <td>3</td>\n",
       "      <td>42.300605</td>\n",
       "      <td>-71.061268</td>\n",
       "    </tr>\n",
       "    <tr>\n",
       "      <th>2</th>\n",
       "      <td>1107</td>\n",
       "      <td>0</td>\n",
       "      <td>0</td>\n",
       "      <td>11</td>\n",
       "      <td>1</td>\n",
       "      <td>12</td>\n",
       "      <td>3</td>\n",
       "      <td>42.334288</td>\n",
       "      <td>-71.072395</td>\n",
       "    </tr>\n",
       "    <tr>\n",
       "      <th>3</th>\n",
       "      <td>1107</td>\n",
       "      <td>10</td>\n",
       "      <td>0</td>\n",
       "      <td>7</td>\n",
       "      <td>0</td>\n",
       "      <td>10</td>\n",
       "      <td>3</td>\n",
       "      <td>42.237009</td>\n",
       "      <td>-71.129566</td>\n",
       "    </tr>\n",
       "    <tr>\n",
       "      <th>4</th>\n",
       "      <td>1102</td>\n",
       "      <td>8</td>\n",
       "      <td>0</td>\n",
       "      <td>12</td>\n",
       "      <td>5</td>\n",
       "      <td>12</td>\n",
       "      <td>3</td>\n",
       "      <td>42.342432</td>\n",
       "      <td>-71.072258</td>\n",
       "    </tr>\n",
       "    <tr>\n",
       "      <th>...</th>\n",
       "      <td>...</td>\n",
       "      <td>...</td>\n",
       "      <td>...</td>\n",
       "      <td>...</td>\n",
       "      <td>...</td>\n",
       "      <td>...</td>\n",
       "      <td>...</td>\n",
       "      <td>...</td>\n",
       "      <td>...</td>\n",
       "    </tr>\n",
       "    <tr>\n",
       "      <th>581346</th>\n",
       "      <td>3125</td>\n",
       "      <td>4</td>\n",
       "      <td>0</td>\n",
       "      <td>4</td>\n",
       "      <td>5</td>\n",
       "      <td>6</td>\n",
       "      <td>2</td>\n",
       "      <td>42.268642</td>\n",
       "      <td>-71.095655</td>\n",
       "    </tr>\n",
       "    <tr>\n",
       "      <th>581347</th>\n",
       "      <td>3110</td>\n",
       "      <td>3</td>\n",
       "      <td>0</td>\n",
       "      <td>1</td>\n",
       "      <td>3</td>\n",
       "      <td>0</td>\n",
       "      <td>2</td>\n",
       "      <td>42.329600</td>\n",
       "      <td>-71.084620</td>\n",
       "    </tr>\n",
       "    <tr>\n",
       "      <th>581348</th>\n",
       "      <td>3801</td>\n",
       "      <td>8</td>\n",
       "      <td>0</td>\n",
       "      <td>7</td>\n",
       "      <td>4</td>\n",
       "      <td>19</td>\n",
       "      <td>2</td>\n",
       "      <td>42.334910</td>\n",
       "      <td>-71.075170</td>\n",
       "    </tr>\n",
       "    <tr>\n",
       "      <th>581349</th>\n",
       "      <td>3115</td>\n",
       "      <td>9</td>\n",
       "      <td>0</td>\n",
       "      <td>1</td>\n",
       "      <td>6</td>\n",
       "      <td>9</td>\n",
       "      <td>2</td>\n",
       "      <td>42.325131</td>\n",
       "      <td>-71.099408</td>\n",
       "    </tr>\n",
       "    <tr>\n",
       "      <th>581350</th>\n",
       "      <td>3114</td>\n",
       "      <td>5</td>\n",
       "      <td>0</td>\n",
       "      <td>5</td>\n",
       "      <td>1</td>\n",
       "      <td>8</td>\n",
       "      <td>2</td>\n",
       "      <td>42.313591</td>\n",
       "      <td>-71.054324</td>\n",
       "    </tr>\n",
       "  </tbody>\n",
       "</table></div>"
      ],
      "text/plain": [
       "        offense_code  district  shooting  month  day_of_week  hour  ucr_part  \\\n",
       "0               2647         3         0      8            0    10         3   \n",
       "1               1106         5         0      8            4     0         3   \n",
       "2               1107         0         0     11            1    12         3   \n",
       "3               1107        10         0      7            0    10         3   \n",
       "4               1102         8         0     12            5    12         3   \n",
       "...              ...       ...       ...    ...          ...   ...       ...   \n",
       "581346          3125         4         0      4            5     6         2   \n",
       "581347          3110         3         0      1            3     0         2   \n",
       "581348          3801         8         0      7            4    19         2   \n",
       "581349          3115         9         0      1            6     9         2   \n",
       "581350          3114         5         0      5            1     8         2   \n",
       "\n",
       "              lat       long  \n",
       "0       42.330119 -71.084251  \n",
       "1       42.300605 -71.061268  \n",
       "2       42.334288 -71.072395  \n",
       "3       42.237009 -71.129566  \n",
       "4       42.342432 -71.072258  \n",
       "...           ...        ...  \n",
       "581346  42.268642 -71.095655  \n",
       "581347  42.329600 -71.084620  \n",
       "581348  42.334910 -71.075170  \n",
       "581349  42.325131 -71.099408  \n",
       "581350  42.313591 -71.054324  \n",
       "\n",
       "[581351 rows x 9 columns]"
      ]
     },
     "execution_count": 162,
     "metadata": {},
     "output_type": "execute_result"
    }
   ],
   "source": [
    "new_df"
   ]
  },
  {
   "cell_type": "code",
   "execution_count": 163,
   "id": "211dbb18-1c35-444f-afd5-db9c3a893a9e",
   "metadata": {},
   "outputs": [
    {
     "data": {
      "text/plain": [
       "<AxesSubplot:>"
      ]
     },
     "execution_count": 163,
     "metadata": {},
     "output_type": "execute_result"
    },
    {
     "data": {
      "image/png": "[encoded data removed]",
      "text/plain": [
       "<Figure size 1400x600 with 2 Axes>"
      ]
     },
     "metadata": {},
     "output_type": "display_data"
    }
   ],
   "source": [
    "plt.figure(figsize = (14,6))\n",
    "sb.heatmap(new_df.corr(), vmin = -1, vmax = 1, annot = True)"
   ]
  },
  {
   "cell_type": "code",
   "execution_count": null,
   "id": "40d4a85d-6253-44a2-a12e-03a77c458122",
   "metadata": {},
   "outputs": [],
   "source": []
  },
  {
   "cell_type": "code",
   "execution_count": 164,
   "id": "42a21332-1264-49f2-bd8f-10e1339ea29e",
   "metadata": {},
   "outputs": [],
   "source": [
    "x = new_df.drop('ucr_part', axis = 1)\n",
    "y = new_df['ucr_part']"
   ]
  },
  {
   "cell_type": "code",
   "execution_count": 171,
   "id": "b9e6c2d3-4bb4-4d2a-bc7f-ece2435f3d9b",
   "metadata": {},
   "outputs": [],
   "source": [
    "x_train, x_test, y_train, y_test = tts(x,y, test_size = 0.25)"
   ]
  },
  {
   "cell_type": "code",
   "execution_count": 172,
   "id": "c80199eb-97aa-4538-82f9-e500da72b78f",
   "metadata": {},
   "outputs": [
    {
     "data": {
      "text/plain": [
       "2    219856\n",
       "3    127924\n",
       "1     86642\n",
       "0      1591\n",
       "Name: ucr_part, dtype: int64"
      ]
     },
     "execution_count": 172,
     "metadata": {},
     "output_type": "execute_result"
    }
   ],
   "source": [
    "y_train.value_counts()"
   ]
  },
  {
   "cell_type": "code",
   "execution_count": 178,
   "id": "89837e15-b06d-4e35-9a05-3fd1d11e380c",
   "metadata": {},
   "outputs": [],
   "source": [
    "over_sample = SMOTE(n_jobs = -1)\n",
    "x_train,y_train= over_sample.fit_resample(x_train,y_train)"
   ]
  },
  {
   "cell_type": "code",
   "execution_count": 179,
   "id": "79920ccc-4bf6-40f5-92fb-dc11b369c1f8",
   "metadata": {},
   "outputs": [
    {
     "data": {
      "text/plain": [
       "array([2, 3, 3, ..., 2, 3, 3])"
      ]
     },
     "execution_count": 179,
     "metadata": {},
     "output_type": "execute_result"
    }
   ],
   "source": [
    "dtc = DecisionTreeClassifier().fit(x_train, y_train)\n",
    "pred = dtc.predict(x_test)\n",
    "pred"
   ]
  },
  {
   "cell_type": "code",
   "execution_count": 180,
   "id": "9f83c8ed-a806-494a-a2db-8a238271cb8c",
   "metadata": {},
   "outputs": [
    {
     "name": "stdout",
     "output_type": "stream",
     "text": [
      "              precision    recall  f1-score   support\n",
      "\n",
      "           0       1.00      0.99      1.00       584\n",
      "           1       1.00      1.00      1.00     28751\n",
      "           2       1.00      1.00      1.00     72975\n",
      "           3       1.00      1.00      1.00     43028\n",
      "\n",
      "    accuracy                           1.00    145338\n",
      "   macro avg       1.00      1.00      1.00    145338\n",
      "weighted avg       1.00      1.00      1.00    145338\n",
      "\n"
     ]
    }
   ],
   "source": [
    "print(cr(pred, y_test))"
   ]
  },
  {
   "cell_type": "code",
   "execution_count": 177,
   "id": "ffc0fd4c-bf4a-42a5-b398-515bf5cbea97",
   "metadata": {},
   "outputs": [
    {
     "data": {
      "image/png": "[encoded data removed]",
      "text/plain": [
       "<Figure size 1200x1000 with 1 Axes>"
      ]
     },
     "metadata": {},
     "output_type": "display_data"
    }
   ],
   "source": [
    "\n",
    "\n",
    "feature_names = list(x.columns)\n",
    "\n",
    "importances = dtc.feature_importances_\n",
    "indices = np.argsort(importances)\n",
    "\n",
    "plt.figure(figsize=(12, 10))\n",
    "plt.title(\"Feature Importances\")\n",
    "plt.barh(range(len(indices)), importances[indices], color=\"violet\", align=\"center\")\n",
    "plt.yticks(range(len(indices)), [feature_names[i] for i in indices])\n",
    "plt.xlabel(\"Relative Importance\")\n",
    "plt.show()\n",
    "\n"
   ]
  },
  {
   "cell_type": "code",
   "execution_count": 176,
   "id": "70a67f7f-7113-4c71-9f3b-f97c08b94a47",
   "metadata": {},
   "outputs": [
    {
     "data": {
      "text/plain": [
       "array([1, 2, 3, 7, 4, 5, 6, 0], dtype=int64)"
      ]
     },
     "execution_count": 176,
     "metadata": {},
     "output_type": "execute_result"
    }
   ],
   "source": [
    "indices"
   ]
  },
  {
   "cell_type": "code",
   "execution_count": 152,
   "id": "c10c6991-0fc1-494d-aa87-bcf97448e6e5",
   "metadata": {},
   "outputs": [
    {
     "data": {
      "text/plain": [
       "array([9.98551967e-01, 3.90497733e-05, 0.00000000e+00, 2.79019612e-05,\n",
       "       1.66366566e-05, 2.13871812e-05, 1.28539895e-03, 5.76583952e-05])"
      ]
     },
     "execution_count": 152,
     "metadata": {},
     "output_type": "execute_result"
    }
   ],
   "source": [
    "importances"
   ]
  },
  {
   "cell_type": "code",
   "execution_count": 188,
   "id": "fb9dcc3e-c7ff-470b-84d6-c4d8b59e2ee8",
   "metadata": {},
   "outputs": [
    {
     "data": {
      "text/plain": [
       "False"
      ]
     },
     "execution_count": 188,
     "metadata": {},
     "output_type": "execute_result"
    }
   ],
   "source": [
    "a = [1,2,3,45]\n",
    "i = 24\n",
    "i in a"
   ]
  }
 ],
 "metadata": {
  "kernelspec": {
   "display_name": "Python 3 (ipykernel)",
   "language": "python",
   "name": "python3"
  },
  "language_info": {
   "codemirror_mode": {
    "name": "ipython",
    "version": 3
   },
   "file_extension": ".py",
   "mimetype": "text/x-python",
   "name": "python",
   "nbconvert_exporter": "python",
   "pygments_lexer": "ipython3",
   "version": "3.9.0"
  }
 },
 "nbformat": 4,
 "nbformat_minor": 5
}
